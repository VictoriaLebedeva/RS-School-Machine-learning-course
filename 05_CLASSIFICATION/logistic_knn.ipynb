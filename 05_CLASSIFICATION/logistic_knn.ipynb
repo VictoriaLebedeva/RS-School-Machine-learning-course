{
 "cells": [
  {
   "cell_type": "markdown",
   "metadata": {},
   "source": [
    "# Classification. Linear models and KNN"
   ]
  },
  {
   "cell_type": "code",
   "execution_count": 312,
   "metadata": {},
   "outputs": [],
   "source": [
    "import os\n",
    "import numpy as np\n",
    "import pandas as pd\n",
    "import seaborn as sns\n",
    "import matplotlib.pyplot as plt\n",
    "\n",
    "import warnings\n",
    "warnings.filterwarnings(\"ignore\")"
   ]
  },
  {
   "cell_type": "code",
   "execution_count": 313,
   "metadata": {},
   "outputs": [],
   "source": [
    "from sklearn.pipeline import Pipeline\n",
    "from sklearn.compose import ColumnTransformer\n",
    "from sklearn.model_selection import train_test_split, cross_validate\n",
    "from sklearn.metrics import plot_confusion_matrix, accuracy_score\n",
    "from sklearn.neighbors import KNeighborsClassifier\n",
    "from sklearn.preprocessing import StandardScaler, OneHotEncoder"
   ]
  },
  {
   "cell_type": "markdown",
   "metadata": {},
   "source": [
    "## Part 1: Implementing Logistic Regression"
   ]
  },
  {
   "cell_type": "markdown",
   "metadata": {},
   "source": [
    "In this task you need to implement Logistic Regression with l2 regularization using gradient descent algorithm."
   ]
  },
  {
   "cell_type": "markdown",
   "metadata": {},
   "source": [
    "Logistic Regression loss:\n",
    "$$ L(w) = \\dfrac{1}{N}\\sum_{i=1}^N \\log(1 + e^{-\\langle w, x_i \\rangle y_i}) + \\frac{1}{2C} \\lVert w \\rVert^2  \\to \\min_w$$\n",
    "$$\\langle w, x_i \\rangle = \\sum_{j=1}^n w_{j}x_{ij} + w_{0},$$ $$ y_{i} \\in \\{-1, 1\\}$$ where $n$ is the number of features and $N$ is the number of samples."
   ]
  },
  {
   "cell_type": "markdown",
   "metadata": {},
   "source": [
    "Gradient descent step:\n",
    "$$w^{(t+1)} := w^{(t)} + \\dfrac{\\eta}{N}\\sum_{i=1}^N y_ix_i \\Big(1 - \\dfrac{1}{1 + exp(-\\langle w^{(t)}, x_i \\rangle y_i)}\\Big) - \\eta \\frac{1}{C} w,$$\n",
    "where $\\eta$ is the learning rate."
   ]
  },
  {
   "cell_type": "markdown",
   "metadata": {},
   "source": [
    "**(2 points)** Implement the algorithm and use it to classify the digits (https://scikit-learn.org/stable/modules/generated/sklearn.datasets.load_digits.html) into \"even\" and \"odd\" categories. \"Even\" and \"Odd\" classes  should correspond to {-1, 1} labels."
   ]
  },
  {
   "cell_type": "markdown",
   "metadata": {},
   "source": [
    "Stopping criteria: either the number of iterations exceeds *max_iter* or $||w^{(t+1)} - w^{(t)}||_2 < tol$."
   ]
  },
  {
   "cell_type": "code",
   "execution_count": 314,
   "metadata": {},
   "outputs": [],
   "source": [
    "from sklearn.exceptions import NotFittedError"
   ]
  },
  {
   "cell_type": "code",
   "execution_count": 315,
   "metadata": {},
   "outputs": [],
   "source": [
    "class CustomLogisticRegression:\n",
    "    _estimator_type = \"classifier\"\n",
    "    \n",
    "    def __init__(self, eta=0.001, max_iter=1000, C=1.0, tol=1e-5, random_state=42, zero_init=False):\n",
    "        \"\"\"Logistic Regression classifier.\n",
    "        \n",
    "        Args:\n",
    "            eta: float, default=0.001\n",
    "                Learning rate.\n",
    "            max_iter: int, default=1000\n",
    "                Maximum number of iterations taken for the solvers to converge.\n",
    "            C: float, default=1.0\n",
    "                Inverse of regularization strength; must be a positive float.\n",
    "                Smaller values specify stronger regularization.\n",
    "            tol: float, default=1e-5\n",
    "                Tolerance for stopping criteria.\n",
    "            random_state: int, default=42\n",
    "                Random state.\n",
    "            zero_init: bool, default=False\n",
    "                Zero weight initialization.\n",
    "        \"\"\"\n",
    "        self.eta = eta\n",
    "        self.max_iter = max_iter\n",
    "        self.C = C\n",
    "        self.tol = tol\n",
    "        self.random_state = np.random.RandomState(seed=random_state)\n",
    "        self.zero_init = zero_init\n",
    "         \n",
    "    def get_sigmoid(self, X, weights):\n",
    "        \"\"\"Compute the sigmoid value.\"\"\"\n",
    "        z = X.dot(weights)\n",
    "        return 1 / (1 + np.exp(-z))\n",
    "    \n",
    "    def get_loss(self, x, weights, y):\n",
    "        \"\"\"Calculate the loss.\"\"\"\n",
    "        if self.C != 0:\n",
    "            loss = np.mean(np.log(1 + np.exp(-y * x.dot(weights)))) + np.sum(weights**2) / (2 * self.C)\n",
    "        else: \n",
    "            loss = np.mean(np.log(1 + np.exp(-y * x.dot(weights))))\n",
    "        return loss\n",
    "     \n",
    "    def fit(self, X, y):\n",
    "        \"\"\"Fit the model.\n",
    "        \n",
    "        Args:\n",
    "            X: numpy array of shape (n_samples, n_features)\n",
    "            y: numpy array of shape (n_samples,)\n",
    "                Target vector.        \n",
    "        \"\"\"\n",
    "        X_ext = np.hstack([np.ones((X.shape[0], 1)), X]) # a constant feature is included to handle intercept\n",
    "        num_features = X_ext.shape[1]\n",
    "        if self.zero_init:\n",
    "            self.weights_ = np.zeros(num_features) \n",
    "        else:\n",
    "            weight_threshold = 1.0 / (2 * num_features)\n",
    "            self.weights_ = self.random_state.uniform(low=-weight_threshold,\n",
    "                                                      high=weight_threshold, size=num_features) # random weight initialization\n",
    "        iteration = [0]\n",
    "        loss_history = []\n",
    "        loss_history.append(self.get_loss(X_ext, self.weights_, y))\n",
    "        for i in range(self.max_iter):\n",
    "            z = y * X_ext.dot(self.weights_)\n",
    "            sigm = 1 - 1 / (1 + np.exp(-z))\n",
    "            if self.C != 0:\n",
    "                delta = X_ext.T.dot(y * sigm) / len(X_ext) - self.weights_ / self.C\n",
    "            else:\n",
    "                delta = X_ext.T.dot(y * sigm) / len(X_ext)\n",
    "            self.weights_ += self.eta * delta\n",
    "            loss_history.append(self.get_loss(X_ext, self.weights_, y))\n",
    "            iteration.append(i + 1)\n",
    "            if np.linalg.norm(delta) < self.tol:\n",
    "                break\n",
    "        return loss_history, iteration\n",
    "     \n",
    "    def predict_proba(self, X):\n",
    "        \"\"\"Predict positive class probabilities.\n",
    "        \n",
    "        Args:\n",
    "            X: numpy array of shape (n_samples, n_features)\n",
    "        Returns:\n",
    "            y: numpy array of shape (n_samples,)\n",
    "                Vector containing positive class probabilities.\n",
    "        \"\"\"\n",
    "        X_ext = np.hstack([np.ones((X.shape[0], 1)), X])\n",
    "        if hasattr(self, 'weights_'):\n",
    "            return self.get_sigmoid(X_ext, self.weights_)\n",
    "        else: \n",
    "            raise NotFittedError(\"CustomLogisticRegression instance is not fitted yet\")\n",
    "    \n",
    "    def predict(self, X):\n",
    "        \"\"\"Predict classes.\n",
    "        \n",
    "        Args:\n",
    "            X: numpy array of shape (n_samples, n_features)\n",
    "        Returns:\n",
    "            y: numpy array of shape (n_samples,)\n",
    "                Vector containing predicted class labels.\n",
    "        \"\"\"\n",
    "        y_proba = self.predict_proba(X)\n",
    "        y_proba[y_proba >= 0.5] = 1\n",
    "        y_proba[y_proba < 0.5] = -1\n",
    "        return y_proba"
   ]
  },
  {
   "cell_type": "code",
   "execution_count": 316,
   "metadata": {},
   "outputs": [],
   "source": [
    "from sklearn import datasets\n",
    "from sklearn import metrics"
   ]
  },
  {
   "cell_type": "code",
   "execution_count": 317,
   "metadata": {},
   "outputs": [
    {
     "data": {
      "image/png": "[encoded data removed]",
      "text/plain": [
       "<Figure size 720x360 with 21 Axes>"
      ]
     },
     "metadata": {
      "needs_background": "light"
     },
     "output_type": "display_data"
    }
   ],
   "source": [
    "X, y = datasets.load_digits(n_class=10, return_X_y=True)\n",
    "\n",
    "_, axes = plt.subplots(nrows=3, ncols=7, figsize=(10, 5))\n",
    "for ax, image, label in zip(axes.flatten(), X, y):\n",
    "    ax.set_axis_off()\n",
    "    ax.imshow(image.reshape((8, 8)), cmap=plt.cm.gray_r if label % 2 else plt.cm.afmhot_r)\n",
    "    ax.set_title(label)\n",
    "\n",
    "X_train, X_test, y_train, y_test = train_test_split(X, y, test_size=0.2, shuffle=True, random_state=42)\n",
    "y_train = (y_train % 2) * 2 - 1\n",
    "y_test = (y_test % 2) * 2 - 1"
   ]
  },
  {
   "cell_type": "code",
   "execution_count": 318,
   "metadata": {},
   "outputs": [],
   "source": [
    "assert (np.unique(y_train) == [-1, 1]).all()\n",
    "assert (np.unique(y_test) == [-1, 1]).all()"
   ]
  },
  {
   "cell_type": "code",
   "execution_count": 319,
   "metadata": {},
   "outputs": [],
   "source": [
    "def fit_evaluate(clf, X_train, y_train, X_test, y_test):\n",
    "    loss, iteration = clf.fit(X_train, y_train)\n",
    "    disp = metrics.plot_confusion_matrix(clf, X_test, y_test, normalize='true')\n",
    "    disp.figure_.suptitle(\"Confusion Matrix\")\n",
    "    plt.show()\n",
    "    \n",
    "    return metrics.accuracy_score(y_pred=clf.predict(X_train), y_true=y_train), \\\n",
    "           metrics.accuracy_score(y_pred=clf.predict(X_test), y_true=y_test), \\\n",
    "           loss, \\\n",
    "           iteration"
   ]
  },
  {
   "cell_type": "code",
   "execution_count": 320,
   "metadata": {},
   "outputs": [],
   "source": [
    "lr_clf = CustomLogisticRegression(max_iter=1, zero_init=True)"
   ]
  },
  {
   "cell_type": "code",
   "execution_count": 321,
   "metadata": {},
   "outputs": [],
   "source": [
    "assert np.allclose(lr_clf.get_sigmoid(np.array([[0.5, 0, 1.0], [0.3, 1.3, 1.0]]), np.array([0.5, -0.5, 0.1])),\n",
    "                   np.array([0.58662, 0.40131]))"
   ]
  },
  {
   "cell_type": "code",
   "execution_count": 322,
   "metadata": {},
   "outputs": [
    {
     "data": {
      "text/plain": [
       "([0.6931471805599453, 0.6736063862205759], [0, 1])"
      ]
     },
     "execution_count": 322,
     "metadata": {},
     "output_type": "execute_result"
    }
   ],
   "source": [
    "lr_clf.fit(X_train, y_train)"
   ]
  },
  {
   "cell_type": "code",
   "execution_count": 323,
   "metadata": {},
   "outputs": [],
   "source": [
    "assert np.allclose(lr_clf.weights_, np.array([ 3.1000e-06,  0.0000e+00,  4.1800e-05,  5.4770e-04,  2.2130e-04,\n",
    "        4.8750e-04,  1.3577e-03,  5.9780e-04,  5.6400e-05, -7.0000e-07,\n",
    "        1.6910e-04,  2.5190e-04, -4.3700e-04,  3.6190e-04,  1.0049e-03,\n",
    "        4.2280e-04,  2.5700e-05,  3.0000e-07, -1.1500e-05, -7.2440e-04,\n",
    "       -2.6200e-04,  8.7540e-04,  4.1540e-04, -8.4200e-05, -5.2000e-06,\n",
    "        0.0000e+00, -2.2160e-04, -5.7130e-04,  9.8570e-04,  1.3507e-03,\n",
    "        5.0210e-04, -1.7050e-04, -1.0000e-06,  0.0000e+00, -6.7810e-04,\n",
    "       -1.0515e-03, -4.4500e-05,  3.7160e-04,  4.2100e-04, -8.1800e-05,\n",
    "        0.0000e+00, -5.2000e-06, -5.3410e-04, -2.0393e-03, -8.4310e-04,\n",
    "        1.0400e-04, -1.2390e-04, -1.7880e-04, -1.3200e-05, -4.5000e-06,\n",
    "       -9.4300e-05, -1.1127e-03, -5.0900e-04, -2.1850e-04, -5.6050e-04,\n",
    "       -3.9560e-04, -1.7700e-05, -3.0000e-07,  2.6800e-05,  6.3920e-04,\n",
    "        1.8090e-04, -7.3660e-04, -5.3930e-04, -3.7060e-04, -2.8200e-05]), atol=1e-5)"
   ]
  },
  {
   "cell_type": "code",
   "execution_count": 324,
   "metadata": {},
   "outputs": [],
   "source": [
    "model = CustomLogisticRegression()"
   ]
  },
  {
   "cell_type": "code",
   "execution_count": 325,
   "metadata": {},
   "outputs": [
    {
     "data": {
      "image/png": "[encoded data removed]",
      "text/plain": [
       "<Figure size 432x288 with 2 Axes>"
      ]
     },
     "metadata": {
      "needs_background": "light"
     },
     "output_type": "display_data"
    }
   ],
   "source": [
    "train_acc, test_acc, loss, iteration = fit_evaluate(model, X_train, y_train, X_test, y_test)"
   ]
  },
  {
   "cell_type": "code",
   "execution_count": 326,
   "metadata": {},
   "outputs": [
    {
     "data": {
      "text/plain": [
       "(0.9109255393180237, 0.9388888888888889)"
      ]
     },
     "execution_count": 326,
     "metadata": {},
     "output_type": "execute_result"
    }
   ],
   "source": [
    "train_acc, test_acc"
   ]
  },
  {
   "cell_type": "code",
   "execution_count": 327,
   "metadata": {},
   "outputs": [],
   "source": [
    "assert min(train_acc, test_acc) > 0.9"
   ]
  },
  {
   "cell_type": "markdown",
   "metadata": {},
   "source": [
    "**(0.5 points)** Visualize the loss history."
   ]
  },
  {
   "cell_type": "code",
   "execution_count": 328,
   "metadata": {},
   "outputs": [
    {
     "name": "stdout",
     "output_type": "stream",
     "text": [
      "Iteration, on which extremum was reached:  1000\n"
     ]
    },
    {
     "data": {
      "image/png": "[encoded data removed]",
      "text/plain": [
       "<Figure size 1080x504 with 2 Axes>"
      ]
     },
     "metadata": {
      "needs_background": "light"
     },
     "output_type": "display_data"
    }
   ],
   "source": [
    "fig, ax = plt.subplots(nrows=1, ncols=2, figsize=(15, 7))\n",
    "ax[0].axvline(np.argmin(loss), color='red')\n",
    "sns.lineplot(x=iteration, y=loss, ax=ax[0])\n",
    "ax[0].set_title('Loss function history')\n",
    "ax[0].set_xlabel('Iterations')\n",
    "ax[0].set_ylabel('Loss')\n",
    "\n",
    "sns.lineplot(x=iteration[600:], y=loss[600:], ax=ax[1], color='orange')\n",
    "ax[1].set_title('Loss function history start from 600 iterations')\n",
    "ax[1].set_xlabel('Iterations')\n",
    "ax[1].set_ylabel('Loss')\n",
    "\n",
    "print('Iteration, on which extremum was reached: ', np.argmin(loss))"
   ]
  },
  {
   "cell_type": "markdown",
   "metadata": {},
   "source": [
    "The left graph shows that the loss function decreases as the number of iterations increases. The criterion for stopping the gradient descent turned out to be the number of iterations. On the right graph, I duplicated the graph of the loss function, but for iterations greater than 600, to see that the loss function decreases. This tells us that the learning rate is well chosen and we haven't made a divergence.  \n",
    "\n",
    "The red line indicates the minimum of the loss function, which is reached at 1000 iterations. "
   ]
  },
  {
   "cell_type": "markdown",
   "metadata": {},
   "source": [
    "**(0.5 points)** Try different learning rates and compare the results. How does the learning rate influence the convergence?"
   ]
  },
  {
   "cell_type": "markdown",
   "metadata": {},
   "source": [
    "Let's look at the loss function and the accuracy of the model as a function of learning rates."
   ]
  },
  {
   "cell_type": "code",
   "execution_count": 329,
   "metadata": {},
   "outputs": [],
   "source": [
    "def model_evaluation(model, param):\n",
    "    loss, iteration = model.fit(X_train, y_train)\n",
    "    train_acc = metrics.accuracy_score(y_pred=model.predict(X_train), y_true=y_train)\n",
    "    test_acc = metrics.accuracy_score(y_pred=model.predict(X_test), y_true=y_test)\n",
    "    print('Parametr =', param)\n",
    "    print('Test acuuracy:', test_acc)\n",
    "    print('Train acuuracy:', train_acc)\n",
    "    print('-' * 20)\n",
    "    sns.lineplot(x=iteration, y=loss, label=param)\n",
    "    plt.legend()"
   ]
  },
  {
   "cell_type": "code",
   "execution_count": 330,
   "metadata": {},
   "outputs": [
    {
     "name": "stdout",
     "output_type": "stream",
     "text": [
      "Parametr = 0.001\n",
      "Test acuuracy: 0.9055555555555556\n",
      "Train acuuracy: 0.894919972164231\n",
      "--------------------\n",
      "Parametr = 0.005\n",
      "Test acuuracy: 0.9388888888888889\n",
      "Train acuuracy: 0.9109255393180237\n",
      "--------------------\n",
      "Parametr = 0.025\n",
      "Test acuuracy: 0.5305555555555556\n",
      "Train acuuracy: 0.5483646485734168\n",
      "--------------------\n"
     ]
    },
    {
     "data": {
      "image/png": "[encoded data removed]",
      "text/plain": [
       "<Figure size 432x288 with 1 Axes>"
      ]
     },
     "metadata": {
      "needs_background": "light"
     },
     "output_type": "display_data"
    }
   ],
   "source": [
    "RATES = [0.001, 0.005, 0.025]\n",
    "for rate in RATES:\n",
    "    model = CustomLogisticRegression(eta=rate, max_iter=200)\n",
    "    model_evaluation(model, rate)"
   ]
  },
  {
   "cell_type": "markdown",
   "metadata": {},
   "source": [
    "In the first case we took small learning rates, the best result we got for Rate = 0.005. Further, as the parameter increases, the accuracy of the model decreases. The convergence of the gradient descent becomes worse. For clarity, let's see what happens, there is to take a fairly large learning rate (I proceeded from the logic that usually the learning rate is taken in the range from 0 to 1)."
   ]
  },
  {
   "cell_type": "code",
   "execution_count": 331,
   "metadata": {},
   "outputs": [
    {
     "name": "stdout",
     "output_type": "stream",
     "text": [
      "Parametr = 0.05\n",
      "Test acuuracy: 0.5611111111111111\n",
      "Train acuuracy: 0.5838552540013918\n",
      "--------------------\n",
      "Parametr = 0.1\n",
      "Test acuuracy: 0.5277777777777778\n",
      "Train acuuracy: 0.5455810716771051\n",
      "--------------------\n",
      "Parametr = 0.5\n",
      "Test acuuracy: 0.49166666666666664\n",
      "Train acuuracy: 0.4968684759916493\n",
      "--------------------\n"
     ]
    },
    {
     "data": {
      "image/png": "[encoded data removed]",
      "text/plain": [
       "<Figure size 432x288 with 1 Axes>"
      ]
     },
     "metadata": {
      "needs_background": "light"
     },
     "output_type": "display_data"
    }
   ],
   "source": [
    "RATES = [0.05, 0.1 , 0.5]\n",
    "for rate in RATES:\n",
    "    model = CustomLogisticRegression(eta=rate, max_iter=200)\n",
    "    model_evaluation(model, rate)"
   ]
  },
  {
   "cell_type": "markdown",
   "metadata": {},
   "source": [
    "From the graphs we can conclude that indeed, the learning rate directly affects the convergence of the model. If the learning rate for the gradient descent is large enough, then you can simply miss the extremum, then the gradient descent will not converge at all even if you increase the number of iterations.  \n",
    "\n",
    "Also, taking too small weights is not appropriate either (the accuracy for 0.005 was higher than 0.001), as a larger number of iterations may be needed, which will increase the learning time. Therefore, it is important to determine the optimal learning rate."
   ]
  },
  {
   "cell_type": "markdown",
   "metadata": {},
   "source": [
    "**(0.5 points)** Try different regularization parameter values and compare the model quality."
   ]
  },
  {
   "cell_type": "markdown",
   "metadata": {},
   "source": [
    "Let's firstly look at the weights of the model and count their $||w||_2$."
   ]
  },
  {
   "cell_type": "code",
   "execution_count": 332,
   "metadata": {},
   "outputs": [
    {
     "name": "stdout",
     "output_type": "stream",
     "text": [
      "First 10 weights [-1.63535143e-01  4.31508002e-63 -9.97448388e-03 -3.23590814e-01\n",
      " -1.74901415e+00 -1.49431686e+00  3.84133612e-01  3.68128045e-01\n",
      "  3.22430990e-02 -1.62375319e-03]\n",
      "Weights norm 9.722070367494107\n"
     ]
    }
   ],
   "source": [
    "print('First 10 weights', model.weights_[:10])\n",
    "print('Weights norm', np.linalg.norm(model.weights_))"
   ]
  },
  {
   "cell_type": "markdown",
   "metadata": {},
   "source": [
    "By virtue of the fact that weight regularization has been applied, the weights and their norm look good. The model is not overfitted. Especially when you consider the fact that for both the training and test datasets the score was good. It is interesting to see what happens to the model if regularization is removed."
   ]
  },
  {
   "cell_type": "code",
   "execution_count": 333,
   "metadata": {},
   "outputs": [
    {
     "data": {
      "image/png": "[encoded data removed]",
      "text/plain": [
       "<Figure size 432x288 with 2 Axes>"
      ]
     },
     "metadata": {
      "needs_background": "light"
     },
     "output_type": "display_data"
    },
    {
     "name": "stdout",
     "output_type": "stream",
     "text": [
      "First 10 weights [-0.00186151  0.00693407  0.00229947  0.03526204  0.07269511  0.01023371\n",
      "  0.14064081  0.09899053  0.00440876  0.00245639]\n",
      "Weights norm 0.4182140390811487\n",
      "Train score 0.9144050104384134\n",
      "Test score 0.9416666666666667\n"
     ]
    }
   ],
   "source": [
    "model = CustomLogisticRegression(C=0)\n",
    "train_acc, test_acc, loss, iteration = fit_evaluate(model, X_train, y_train, X_test, y_test)\n",
    "print('First 10 weights', model.weights_[:10])\n",
    "print('Weights norm', np.linalg.norm(model.weights_))\n",
    "print('Train score', train_acc)\n",
    "print('Test score', test_acc)"
   ]
  },
  {
   "cell_type": "markdown",
   "metadata": {},
   "source": [
    "We got even better results than with regularization! This can be explained by the fact that there is no multicolinearity in the dataset, which leads to overfitting. Now let's see how the loss function behaves when we change the regularization parameter."
   ]
  },
  {
   "cell_type": "code",
   "execution_count": 334,
   "metadata": {},
   "outputs": [
    {
     "name": "stdout",
     "output_type": "stream",
     "text": [
      "Parametr = 0\n",
      "Test acuuracy: 0.9416666666666667\n",
      "Train acuuracy: 0.9144050104384134\n",
      "--------------------\n",
      "Parametr = 0.001\n",
      "Test acuuracy: 0.8694444444444445\n",
      "Train acuuracy: 0.8385525400139179\n",
      "--------------------\n",
      "Parametr = 0.005\n",
      "Test acuuracy: 0.8722222222222222\n",
      "Train acuuracy: 0.8420320111343076\n",
      "--------------------\n",
      "Parametr = 0.01\n",
      "Test acuuracy: 0.875\n",
      "Train acuuracy: 0.8455114822546973\n",
      "--------------------\n",
      "Parametr = 0.05\n",
      "Test acuuracy: 0.8972222222222223\n",
      "Train acuuracy: 0.871955462769659\n",
      "--------------------\n",
      "Parametr = 0.5\n",
      "Test acuuracy: 0.9277777777777778\n",
      "Train acuuracy: 0.9039665970772442\n",
      "--------------------\n"
     ]
    },
    {
     "data": {
      "image/png": "[encoded data removed]",
      "text/plain": [
       "<Figure size 432x288 with 1 Axes>"
      ]
     },
     "metadata": {
      "needs_background": "light"
     },
     "output_type": "display_data"
    }
   ],
   "source": [
    "C = [0, 0.001, 0.005, 0.01, 0.05, 0.5]\n",
    "for c in C:\n",
    "    model = CustomLogisticRegression(C=c)\n",
    "    model_evaluation(model, c)"
   ]
  },
  {
   "cell_type": "markdown",
   "metadata": {},
   "source": [
    "We got a pretty interesting result. As shown earlier, at 0 we get a good model. In fact, for the current data we could do without regularization. It is also worth noting that for small values of parameters the gradient descent converges quickly, but the model at these parameters shows worse results than models with larger values of resularization parameters."
   ]
  },
  {
   "cell_type": "markdown",
   "metadata": {},
   "source": [
    "**(0.5 points)** Compare zero initialization and random initialization. "
   ]
  },
  {
   "cell_type": "code",
   "execution_count": 335,
   "metadata": {},
   "outputs": [
    {
     "name": "stdout",
     "output_type": "stream",
     "text": [
      "Random initiation\n"
     ]
    },
    {
     "data": {
      "image/png": "[encoded data removed]",
      "text/plain": [
       "<Figure size 432x288 with 2 Axes>"
      ]
     },
     "metadata": {
      "needs_background": "light"
     },
     "output_type": "display_data"
    },
    {
     "name": "stdout",
     "output_type": "stream",
     "text": [
      "Train accurancy 0.9109255393180237\n",
      "Test accurancy 0.9388888888888889\n",
      "Zero initiation\n"
     ]
    },
    {
     "data": {
      "image/png": "[encoded data removed]",
      "text/plain": [
       "<Figure size 432x288 with 2 Axes>"
      ]
     },
     "metadata": {
      "needs_background": "light"
     },
     "output_type": "display_data"
    },
    {
     "name": "stdout",
     "output_type": "stream",
     "text": [
      "Train accurancy 0.9116214335421016\n",
      "Test accurancy 0.9388888888888889\n"
     ]
    },
    {
     "data": {
      "text/plain": [
       "Text(0.5, 1.0, 'Loss function — Weights initiation')"
      ]
     },
     "execution_count": 335,
     "metadata": {},
     "output_type": "execute_result"
    },
    {
     "data": {
      "image/png": "[encoded data removed]",
      "text/plain": [
       "<Figure size 432x288 with 1 Axes>"
      ]
     },
     "metadata": {
      "needs_background": "light"
     },
     "output_type": "display_data"
    }
   ],
   "source": [
    "model = CustomLogisticRegression(zero_init=False)\n",
    "print('Random initiation')\n",
    "train_acc, test_acc, loss, iteration = fit_evaluate(model, X_train, y_train, X_test, y_test)\n",
    "print('Train accurancy', train_acc)\n",
    "print('Test accurancy', test_acc)\n",
    "\n",
    "print('Zero initiation')\n",
    "model = CustomLogisticRegression(zero_init=True)\n",
    "train_acc, test_acc, loss_0, iteration = fit_evaluate(model, X_train, y_train, X_test, y_test)\n",
    "print('Train accurancy', train_acc)\n",
    "print('Test accurancy', test_acc)\n",
    "\n",
    "sns.lineplot(x=iteration, y=loss, label='non-zero')\n",
    "sns.lineplot(x=iteration, y=loss_0, label='zero')\n",
    "plt.legend()\n",
    "plt.title('Loss function — Weights initiation')"
   ]
  },
  {
   "cell_type": "markdown",
   "metadata": {},
   "source": [
    "We can see from the confusion matrix and the line graph that the results of the classifier with zero and random initialization of weights are almost identical. However, according to the accuracy of the model, we can see that the zero initialization of weights is slightly better."
   ]
  },
  {
   "cell_type": "markdown",
   "metadata": {},
   "source": [
    "## Part 2: Implementing KNN Classifier"
   ]
  },
  {
   "cell_type": "markdown",
   "metadata": {},
   "source": [
    "In this task you need to implement weighted K-Neighbors Classifier."
   ]
  },
  {
   "cell_type": "markdown",
   "metadata": {},
   "source": [
    "Recall that training a KNN classifier is simply memorizing a training sample. \n",
    "\n",
    "The process of applying a classifier for one object is to find the distances from it to all objects in the training data, then select the k nearest objects (neighbors) and return the most common class among these objects."
   ]
  },
  {
   "cell_type": "markdown",
   "metadata": {},
   "source": [
    "You can also give the nearest neighbors weights in accordance with the distance of the object to them. In the simplest case (as in your assignment), you can set the weights inversely proportional to that distance. \n",
    "\n",
    "$$w_{i} = \\frac{1}{d_{i} + eps},$$\n",
    "\n",
    "where $d_{i}$ is the distance between object and i-th nearest neighbor and $eps$ is the small value to prevent division by zero.\n",
    "\n",
    "In case of 'uniform' weights, all k nearest neighbors are equivalent (have equal weight, for example $w_{i} = 1, \\forall i \\in(1,k)$)."
   ]
  },
  {
   "cell_type": "markdown",
   "metadata": {},
   "source": [
    "To predict the probability of classes, it is necessary to normalize the weights of each class, dividing them by the sum:\n",
    "\n",
    "$$p_{i} = \\frac{w_{i}}{\\sum_{j=1}^{c}w_{j}},$$\n",
    "\n",
    "where $p_i$ is probability of i-th class and $c$ is the number of classes."
   ]
  },
  {
   "cell_type": "markdown",
   "metadata": {},
   "source": [
    "**(2 points)** Implement the algorithm and use it to classify the digits. By implementing this algorithm, you will be able to classify numbers not only into \"even\" or \"odd\", but into their real representation."
   ]
  },
  {
   "cell_type": "code",
   "execution_count": 336,
   "metadata": {},
   "outputs": [],
   "source": [
    "class CustomKNeighborsClassifier:\n",
    "    _estimator_type = \"classifier\"\n",
    "    \n",
    "    def __init__(self, n_neighbors=5, weights='uniform', eps=1e-9):\n",
    "        \"\"\"K-Nearest Neighbors classifier.\n",
    "        \n",
    "        Args:\n",
    "            n_neighbors: int, default=5\n",
    "                Number of neighbors to use by default for :meth:`kneighbors` queries.\n",
    "            weights : {'uniform', 'distance'} or callable, default='uniform'\n",
    "                Weight function used in prediction.  Possible values:\n",
    "                - 'uniform' : uniform weights.  All points in each neighborhood\n",
    "                  are weighted equally.\n",
    "                - 'distance' : weight points by the inverse of their distance.\n",
    "                  in this case, closer neighbors of a query point will have a\n",
    "                  greater influence than neighbors which are further away.\n",
    "            eps : float, default=1e-5\n",
    "                Epsilon to prevent division by 0 \n",
    "        \"\"\"\n",
    "        self.n_neighbors = n_neighbors\n",
    "        self.weights = weights\n",
    "        self.eps = eps\n",
    "        \n",
    "    \n",
    "    def get_pairwise_distances(self, X, Y):\n",
    "        \"\"\"\n",
    "        Returnes matrix of the pairwise distances between the rows from both X and Y.\n",
    "        Args:\n",
    "            X: numpy array of shape (n_samples, n_features)\n",
    "            Y: numpy array of shape (k_samples, n_features)\n",
    "        Returns:\n",
    "            P: numpy array of shape (n_samples, k_samples)\n",
    "                Matrix in which (i, j) value is the distance \n",
    "                between i'th row from the X and j'th row from the Y.\n",
    "        \"\"\"\n",
    "        P = []\n",
    "        for x in X:\n",
    "            P.append([np.linalg.norm(x-y) for y in Y])\n",
    "        return np.array(P)\n",
    "    \n",
    "    \n",
    "    def get_class_weights(self, y, weights):\n",
    "        \"\"\"\n",
    "        Returns a vector with sum of weights for each class \n",
    "        Args:\n",
    "            y: numpy array of shape (n_samles,)\n",
    "            weights: numpy array of shape (n_samples,)\n",
    "                The weights of the corresponding points of y.\n",
    "        Returns:\n",
    "            p: numpy array of shape (n_classes)\n",
    "                Array where the value at the i-th position \n",
    "                corresponds to the weight of the i-th class.\n",
    "        \"\"\"\n",
    "        y_weights_df = pd.DataFrame(zip(y, weights), columns=['y', 'weights'])\n",
    "        return y_weights_df.groupby('y')['weights'].sum().reindex(self.classes_)\n",
    "\n",
    "    def get_weights(self, pair_tuple):\n",
    "        weights_of_points = np.zeros(len(self.classes_))\n",
    "        for t in pair_tuple:\n",
    "            pair_list = list(t)\n",
    "            if self.weights == 'distance':\n",
    "                weight = 1 / (pair_list[0] + self.eps)\n",
    "                weights_of_points[pair_list[1]] += weight\n",
    "            else:\n",
    "                weights_of_points[pair_list[1]] += 1\n",
    "        return np.array(weights_of_points)\n",
    "            \n",
    "        \n",
    "    def fit(self, X, y):\n",
    "        \"\"\"Fit the model.\n",
    "        \n",
    "        Args:\n",
    "            X: numpy array of shape (n_samples, n_features)\n",
    "            y: numpy array of shape (n_samples,)\n",
    "                Target vector.        \n",
    "        \"\"\"\n",
    "        self.points = X\n",
    "        self.y = y\n",
    "        self.classes_ = np.unique(y)\n",
    "        \n",
    "        \n",
    "    def predict_proba(self, X):\n",
    "        \"\"\"Predict positive class probabilities.\n",
    "        \n",
    "        Args:\n",
    "            X: numpy array of shape (n_samples, n_features)\n",
    "        Returns:\n",
    "            y: numpy array of shape (n_samples, n_classes)\n",
    "                Vector containing positive class probabilities.\n",
    "        \"\"\"\n",
    "        if hasattr(self, 'points'):\n",
    "            P = self.get_pairwise_distances(X, self.points)\n",
    "            proba = np.empty([len(X), len(self.classes_)], int)\n",
    "            for i, row in enumerate(P):\n",
    "                k_nearest = sorted(zip(row, self.y), key=lambda x: x[0])[:self.n_neighbors]\n",
    "                weights = self.get_weights(k_nearest)\n",
    "                class_proba = weights / np.sum(weights)\n",
    "                proba = np.append(proba, np.array([class_proba]), axis=0)  \n",
    "            return proba[len(X):]         \n",
    "        else: \n",
    "            raise NotFittedError(\"CustomKNeighborsClassifier instance is not fitted yet\")\n",
    "            \n",
    "        \n",
    "    def predict(self, X):\n",
    "        \"\"\"Predict classes.\n",
    "        \n",
    "        Args:\n",
    "            X: numpy array of shape (n_samples, n_features)\n",
    "        Returns:\n",
    "            y: numpy array of shape (n_samples,)\n",
    "                Vector containing predicted class labels.\n",
    "        \"\"\"\n",
    "        class_proba = []\n",
    "        proba = self.predict_proba(X)\n",
    "        for i in proba:\n",
    "            class_proba.append(np.argmax(i))\n",
    "        return class_proba\n"
   ]
  },
  {
   "cell_type": "code",
   "execution_count": 337,
   "metadata": {},
   "outputs": [],
   "source": [
    "model = CustomKNeighborsClassifier(n_neighbors=5, weights='distance')\n",
    "knn = KNeighborsClassifier(n_neighbors=5, weights='distance')"
   ]
  },
  {
   "cell_type": "code",
   "execution_count": 338,
   "metadata": {},
   "outputs": [],
   "source": [
    "assert np.allclose(model.get_pairwise_distances(np.array([[0  , 1]  , [1, 1]]), \n",
    "                                                np.array([[0.5, 0.5], [1, 0]])),\n",
    "                   np.array([[0.70710678, 1.41421356],\n",
    "                             [0.70710678, 1.        ]]))"
   ]
  },
  {
   "cell_type": "code",
   "execution_count": 339,
   "metadata": {},
   "outputs": [],
   "source": [
    "model.classes_ = ['one', 'two', 'three']\n",
    "assert np.allclose(model.get_class_weights(np.array(['one', 'one', 'three', 'two']), np.array([1, 1, 0, 4])), \n",
    "                   np.array([2,4,0]))"
   ]
  },
  {
   "cell_type": "code",
   "execution_count": 340,
   "metadata": {},
   "outputs": [
    {
     "data": {
      "image/png": "[encoded data removed]",
      "text/plain": [
       "<Figure size 720x360 with 21 Axes>"
      ]
     },
     "metadata": {
      "needs_background": "light"
     },
     "output_type": "display_data"
    }
   ],
   "source": [
    "X, y = datasets.load_digits(n_class=10, return_X_y=True)\n",
    "\n",
    "_, axes = plt.subplots(nrows=3, ncols=7, figsize=(10, 5))\n",
    "for ax, image, label in zip(axes.flatten(), X, y):\n",
    "    ax.set_axis_off()\n",
    "    ax.imshow(image.reshape((8, 8)), cmap=plt.cm.gray_r if label % 2 else plt.cm.afmhot_r)\n",
    "    ax.set_title(label)\n",
    "\n",
    "X_train, X_test, y_train, y_test = train_test_split(X, y, test_size=0.2, shuffle=True, random_state=42)"
   ]
  },
  {
   "cell_type": "code",
   "execution_count": 341,
   "metadata": {},
   "outputs": [
    {
     "data": {
      "text/plain": [
       "KNeighborsClassifier(weights='distance')"
      ]
     },
     "execution_count": 341,
     "metadata": {},
     "output_type": "execute_result"
    }
   ],
   "source": [
    "model.fit(X_train, y_train)\n",
    "knn.fit(X_train, list(map(str, y_train)))"
   ]
  },
  {
   "cell_type": "code",
   "execution_count": 342,
   "metadata": {},
   "outputs": [],
   "source": [
    "assert np.allclose(model.predict_proba(X_test), knn.predict_proba(X_test))"
   ]
  },
  {
   "cell_type": "code",
   "execution_count": 343,
   "metadata": {},
   "outputs": [],
   "source": [
    "def fit_evaluate_knn(clf, X_train, y_train, X_test, y_test):\n",
    "    clf.fit(X_train, y_train)\n",
    "    disp = metrics.plot_confusion_matrix(clf, X_test, y_test, normalize='true')\n",
    "    disp.figure_.suptitle(\"Confusion Matrix\")\n",
    "    plt.show()\n",
    "    \n",
    "    return metrics.accuracy_score(y_pred=clf.predict(X_train), y_true=y_train), \\\n",
    "           metrics.accuracy_score(y_pred=clf.predict(X_test), y_true=y_test)\n",
    "           "
   ]
  },
  {
   "cell_type": "code",
   "execution_count": 344,
   "metadata": {},
   "outputs": [
    {
     "data": {
      "image/png": "[encoded data removed]",
      "text/plain": [
       "<Figure size 432x288 with 2 Axes>"
      ]
     },
     "metadata": {
      "needs_background": "light"
     },
     "output_type": "display_data"
    }
   ],
   "source": [
    "train_acc, test_acc = fit_evaluate_knn(model, X_train, y_train, X_test, y_test)"
   ]
  },
  {
   "cell_type": "code",
   "execution_count": 345,
   "metadata": {},
   "outputs": [],
   "source": [
    "assert train_acc == 1\n",
    "assert test_acc > 0.98"
   ]
  },
  {
   "cell_type": "markdown",
   "metadata": {},
   "source": [
    "**(0.5 points)** Take a look at the confusion matrix and tell what numbers the model confuses and why this happens."
   ]
  },
  {
   "cell_type": "markdown",
   "metadata": {},
   "source": [
    "We can see from the confusion matrix that in general kNN classifies numbers perfectly. However, we can also see that in some cases \n",
    "* 5 was predicted to be 6 (0.021) or 9 (0.021)\n",
    "* 7 was predicted to be 9 (0. 029)\n",
    "* 9 was predicted as 4 (0.025), 5 (0.025) \n",
    "\n",
    "I can justify these results by the fact that the numbers are outwardly similar to each other in handwriting. For example, if you finish drawing a pair of lines in 4, you get 9. "
   ]
  },
  {
   "cell_type": "markdown",
   "metadata": {},
   "source": [
    "**(0.5 points)** Try different n_neighbors parameters and compare the output probabilities of the model."
   ]
  },
  {
   "cell_type": "code",
   "execution_count": 346,
   "metadata": {},
   "outputs": [],
   "source": [
    "def n_neighbors_accurancy(lower_bound, upper_bound, weights='distance'):\n",
    "    n_neighbors = np.linspace(lower_bound, upper_bound, 15).astype(int)\n",
    "    test_acc = []\n",
    "    for n in n_neighbors:\n",
    "        model = CustomKNeighborsClassifier(n_neighbors=n, weights=weights)\n",
    "        model.fit(X_train, y_train)\n",
    "        test_acc.append(metrics.accuracy_score(y_pred=model.predict(X_test), y_true=y_test))\n",
    "    return test_acc, n_neighbors"
   ]
  },
  {
   "cell_type": "code",
   "execution_count": 347,
   "metadata": {},
   "outputs": [
    {
     "data": {
      "text/html": [
       "<div>\n",
       "<style scoped>\n",
       "    .dataframe tbody tr th:only-of-type {\n",
       "        vertical-align: middle;\n",
       "    }\n",
       "\n",
       "    .dataframe tbody tr th {\n",
       "        vertical-align: top;\n",
       "    }\n",
       "\n",
       "    .dataframe thead th {\n",
       "        text-align: right;\n",
       "    }\n",
       "</style>\n",
       "<table border=\"1\" class=\"dataframe\">\n",
       "  <thead>\n",
       "    <tr style=\"text-align: right;\">\n",
       "      <th></th>\n",
       "      <th>n_neighbors</th>\n",
       "      <th>accurancy</th>\n",
       "    </tr>\n",
       "  </thead>\n",
       "  <tbody>\n",
       "    <tr>\n",
       "      <th>0</th>\n",
       "      <td>1</td>\n",
       "      <td>0.977778</td>\n",
       "    </tr>\n",
       "    <tr>\n",
       "      <th>1</th>\n",
       "      <td>103</td>\n",
       "      <td>0.938889</td>\n",
       "    </tr>\n",
       "    <tr>\n",
       "      <th>2</th>\n",
       "      <td>206</td>\n",
       "      <td>0.905556</td>\n",
       "    </tr>\n",
       "    <tr>\n",
       "      <th>3</th>\n",
       "      <td>308</td>\n",
       "      <td>0.894444</td>\n",
       "    </tr>\n",
       "    <tr>\n",
       "      <th>4</th>\n",
       "      <td>411</td>\n",
       "      <td>0.894444</td>\n",
       "    </tr>\n",
       "    <tr>\n",
       "      <th>5</th>\n",
       "      <td>513</td>\n",
       "      <td>0.875000</td>\n",
       "    </tr>\n",
       "    <tr>\n",
       "      <th>6</th>\n",
       "      <td>616</td>\n",
       "      <td>0.866667</td>\n",
       "    </tr>\n",
       "    <tr>\n",
       "      <th>7</th>\n",
       "      <td>719</td>\n",
       "      <td>0.866667</td>\n",
       "    </tr>\n",
       "    <tr>\n",
       "      <th>8</th>\n",
       "      <td>821</td>\n",
       "      <td>0.875000</td>\n",
       "    </tr>\n",
       "    <tr>\n",
       "      <th>9</th>\n",
       "      <td>924</td>\n",
       "      <td>0.872222</td>\n",
       "    </tr>\n",
       "    <tr>\n",
       "      <th>10</th>\n",
       "      <td>1026</td>\n",
       "      <td>0.875000</td>\n",
       "    </tr>\n",
       "    <tr>\n",
       "      <th>11</th>\n",
       "      <td>1129</td>\n",
       "      <td>0.888889</td>\n",
       "    </tr>\n",
       "    <tr>\n",
       "      <th>12</th>\n",
       "      <td>1231</td>\n",
       "      <td>0.891667</td>\n",
       "    </tr>\n",
       "    <tr>\n",
       "      <th>13</th>\n",
       "      <td>1334</td>\n",
       "      <td>0.911111</td>\n",
       "    </tr>\n",
       "    <tr>\n",
       "      <th>14</th>\n",
       "      <td>1437</td>\n",
       "      <td>0.913889</td>\n",
       "    </tr>\n",
       "  </tbody>\n",
       "</table>\n",
       "</div>"
      ],
      "text/plain": [
       "    n_neighbors  accurancy\n",
       "0             1   0.977778\n",
       "1           103   0.938889\n",
       "2           206   0.905556\n",
       "3           308   0.894444\n",
       "4           411   0.894444\n",
       "5           513   0.875000\n",
       "6           616   0.866667\n",
       "7           719   0.866667\n",
       "8           821   0.875000\n",
       "9           924   0.872222\n",
       "10         1026   0.875000\n",
       "11         1129   0.888889\n",
       "12         1231   0.891667\n",
       "13         1334   0.911111\n",
       "14         1437   0.913889"
      ]
     },
     "execution_count": 347,
     "metadata": {},
     "output_type": "execute_result"
    },
    {
     "data": {
      "image/png": "[encoded data removed]",
      "text/plain": [
       "<Figure size 432x288 with 1 Axes>"
      ]
     },
     "metadata": {
      "needs_background": "light"
     },
     "output_type": "display_data"
    }
   ],
   "source": [
    "test_acc, n_neighbors = n_neighbors_accurancy(1, len(X_train))\n",
    "sns.lineplot(x=n_neighbors, y=test_acc)\n",
    "pd.DataFrame({'n_neighbors': n_neighbors, 'accurancy': test_acc})"
   ]
  },
  {
   "cell_type": "markdown",
   "metadata": {},
   "source": [
    "In the graph above, we can see that the accuracy of the model decreases as the number of neighbors increases, 600+ after which we can see an increase in accuracy. I will suggest that this increase is of random nature. Let's test this assumption by considering the number of neighbors > 600+. "
   ]
  },
  {
   "cell_type": "code",
   "execution_count": 348,
   "metadata": {},
   "outputs": [
    {
     "data": {
      "text/plain": [
       "<AxesSubplot:>"
      ]
     },
     "execution_count": 348,
     "metadata": {},
     "output_type": "execute_result"
    },
    {
     "data": {
      "image/png": "[encoded data removed]",
      "text/plain": [
       "<Figure size 432x288 with 1 Axes>"
      ]
     },
     "metadata": {
      "needs_background": "light"
     },
     "output_type": "display_data"
    }
   ],
   "source": [
    "test_acc, n_neighbors = n_neighbors_accurancy(600, len(X_train))\n",
    "sns.lineplot(x=n_neighbors, y=test_acc)"
   ]
  },
  {
   "cell_type": "markdown",
   "metadata": {},
   "source": [
    "Although the graph shows that in general there is an increase in accuracy as the number of neighbors increases. But still the presence of small peaks suggests that some values make predictions worse than the preceding values. This is most likely because more different classes are included in the prediction and the number of y different classes may be affected to a greater extent, and the fact of distance itself is affected to a lesser extent."
   ]
  },
  {
   "cell_type": "markdown",
   "metadata": {},
   "source": [
    "**(0.5 points)** Compare both 'uniform' and 'distance' weights and share your thoughts in what situations which parameter can be better."
   ]
  },
  {
   "cell_type": "code",
   "execution_count": 349,
   "metadata": {},
   "outputs": [
    {
     "data": {
      "text/plain": [
       "<AxesSubplot:>"
      ]
     },
     "execution_count": 349,
     "metadata": {},
     "output_type": "execute_result"
    },
    {
     "data": {
      "image/png": "[encoded data removed]",
      "text/plain": [
       "<Figure size 432x288 with 1 Axes>"
      ]
     },
     "metadata": {
      "needs_background": "light"
     },
     "output_type": "display_data"
    }
   ],
   "source": [
    "test_acc_uniform, n_neighbors = n_neighbors_accurancy(1, 16, weights='uniform')\n",
    "test_acc_distance, n_neighbors  = n_neighbors_accurancy(1, 16)\n",
    "\n",
    "sns.lineplot(x=n_neighbors, y=test_acc_uniform, label='Uniform weights')\n",
    "sns.lineplot(x=n_neighbors, y=test_acc_distance, label='Distance weights')"
   ]
  },
  {
   "cell_type": "code",
   "execution_count": 350,
   "metadata": {},
   "outputs": [
    {
     "data": {
      "text/html": [
       "<div>\n",
       "<style scoped>\n",
       "    .dataframe tbody tr th:only-of-type {\n",
       "        vertical-align: middle;\n",
       "    }\n",
       "\n",
       "    .dataframe tbody tr th {\n",
       "        vertical-align: top;\n",
       "    }\n",
       "\n",
       "    .dataframe thead th {\n",
       "        text-align: right;\n",
       "    }\n",
       "</style>\n",
       "<table border=\"1\" class=\"dataframe\">\n",
       "  <thead>\n",
       "    <tr style=\"text-align: right;\">\n",
       "      <th></th>\n",
       "      <th>0</th>\n",
       "      <th>1</th>\n",
       "      <th>2</th>\n",
       "      <th>3</th>\n",
       "      <th>4</th>\n",
       "      <th>5</th>\n",
       "      <th>6</th>\n",
       "      <th>7</th>\n",
       "      <th>8</th>\n",
       "      <th>9</th>\n",
       "      <th>10</th>\n",
       "      <th>11</th>\n",
       "      <th>12</th>\n",
       "      <th>13</th>\n",
       "      <th>14</th>\n",
       "    </tr>\n",
       "  </thead>\n",
       "  <tbody>\n",
       "    <tr>\n",
       "      <th>uniform</th>\n",
       "      <td>0.977778</td>\n",
       "      <td>0.980556</td>\n",
       "      <td>0.983333</td>\n",
       "      <td>0.980556</td>\n",
       "      <td>0.986111</td>\n",
       "      <td>0.988889</td>\n",
       "      <td>0.988889</td>\n",
       "      <td>0.986111</td>\n",
       "      <td>0.980556</td>\n",
       "      <td>0.983333</td>\n",
       "      <td>0.983333</td>\n",
       "      <td>0.977778</td>\n",
       "      <td>0.977778</td>\n",
       "      <td>0.980556</td>\n",
       "      <td>0.980556</td>\n",
       "    </tr>\n",
       "    <tr>\n",
       "      <th>distance</th>\n",
       "      <td>0.977778</td>\n",
       "      <td>0.977778</td>\n",
       "      <td>0.983333</td>\n",
       "      <td>0.983333</td>\n",
       "      <td>0.986111</td>\n",
       "      <td>0.988889</td>\n",
       "      <td>0.988889</td>\n",
       "      <td>0.986111</td>\n",
       "      <td>0.980556</td>\n",
       "      <td>0.980556</td>\n",
       "      <td>0.983333</td>\n",
       "      <td>0.977778</td>\n",
       "      <td>0.977778</td>\n",
       "      <td>0.980556</td>\n",
       "      <td>0.980556</td>\n",
       "    </tr>\n",
       "  </tbody>\n",
       "</table>\n",
       "</div>"
      ],
      "text/plain": [
       "                0         1         2         3         4         5   \\\n",
       "uniform   0.977778  0.980556  0.983333  0.980556  0.986111  0.988889   \n",
       "distance  0.977778  0.977778  0.983333  0.983333  0.986111  0.988889   \n",
       "\n",
       "                6         7         8         9         10        11  \\\n",
       "uniform   0.988889  0.986111  0.980556  0.983333  0.983333  0.977778   \n",
       "distance  0.988889  0.986111  0.980556  0.980556  0.983333  0.977778   \n",
       "\n",
       "                12        13        14  \n",
       "uniform   0.977778  0.980556  0.980556  \n",
       "distance  0.977778  0.980556  0.980556  "
      ]
     },
     "execution_count": 350,
     "metadata": {},
     "output_type": "execute_result"
    }
   ],
   "source": [
    "pd.DataFrame([test_acc_uniform, test_acc_distance], index=['uniform', 'distance'])"
   ]
  },
  {
   "cell_type": "markdown",
   "metadata": {},
   "source": [
    "Both 'uniform' and 'distance' weights show almost identical results. In some cases (based on the number of neighbors), 'uniform' performs better than 'distance' and vice versa. "
   ]
  },
  {
   "cell_type": "markdown",
   "metadata": {},
   "source": [
    "**(0.5 points)** Suggest another distance measurement function that could improve the quality of the classification for this task. "
   ]
  },
  {
   "cell_type": "code",
   "execution_count": 351,
   "metadata": {},
   "outputs": [],
   "source": [
    "test_acc = []\n",
    "distance = ['euclidean', 'manhattan', 'chebyshev', 'minkowski', 'mahalanobis']\n",
    "for d in distance:\n",
    "    knn = KNeighborsClassifier(n_neighbors=5, weights='distance', metric=d)\n",
    "    knn.fit(X_train, y_train)\n",
    "    test_acc.append(metrics.accuracy_score(y_pred=model.predict(X_test), y_true=y_test))\n",
    "\n",
    "metrics_score = pd.DataFrame({'distance': distance, 'score': test_acc})"
   ]
  },
  {
   "cell_type": "code",
   "execution_count": 352,
   "metadata": {},
   "outputs": [
    {
     "data": {
      "text/html": [
       "<div>\n",
       "<style scoped>\n",
       "    .dataframe tbody tr th:only-of-type {\n",
       "        vertical-align: middle;\n",
       "    }\n",
       "\n",
       "    .dataframe tbody tr th {\n",
       "        vertical-align: top;\n",
       "    }\n",
       "\n",
       "    .dataframe thead th {\n",
       "        text-align: right;\n",
       "    }\n",
       "</style>\n",
       "<table border=\"1\" class=\"dataframe\">\n",
       "  <thead>\n",
       "    <tr style=\"text-align: right;\">\n",
       "      <th></th>\n",
       "      <th>distance</th>\n",
       "      <th>score</th>\n",
       "    </tr>\n",
       "  </thead>\n",
       "  <tbody>\n",
       "    <tr>\n",
       "      <th>0</th>\n",
       "      <td>euclidean</td>\n",
       "      <td>0.986111</td>\n",
       "    </tr>\n",
       "    <tr>\n",
       "      <th>1</th>\n",
       "      <td>manhattan</td>\n",
       "      <td>0.986111</td>\n",
       "    </tr>\n",
       "    <tr>\n",
       "      <th>2</th>\n",
       "      <td>chebyshev</td>\n",
       "      <td>0.986111</td>\n",
       "    </tr>\n",
       "    <tr>\n",
       "      <th>3</th>\n",
       "      <td>minkowski</td>\n",
       "      <td>0.986111</td>\n",
       "    </tr>\n",
       "    <tr>\n",
       "      <th>4</th>\n",
       "      <td>mahalanobis</td>\n",
       "      <td>0.986111</td>\n",
       "    </tr>\n",
       "  </tbody>\n",
       "</table>\n",
       "</div>"
      ],
      "text/plain": [
       "      distance     score\n",
       "0    euclidean  0.986111\n",
       "1    manhattan  0.986111\n",
       "2    chebyshev  0.986111\n",
       "3    minkowski  0.986111\n",
       "4  mahalanobis  0.986111"
      ]
     },
     "execution_count": 352,
     "metadata": {},
     "output_type": "execute_result"
    }
   ],
   "source": [
    "metrics_score"
   ]
  },
  {
   "cell_type": "markdown",
   "metadata": {},
   "source": [
    "As we can see, for the selected dataset, the metrics showed a very good identical result."
   ]
  },
  {
   "cell_type": "markdown",
   "metadata": {},
   "source": [
    "**(0.5 points)** Suggest different task and distance function that you think would be suitable for it."
   ]
  },
  {
   "cell_type": "markdown",
   "metadata": {},
   "source": [
    "**Euclidean Distance** is used when we have to calculate the distance of real values like integer, float. But we have to normalize or standard the data. So, as we have real values in the current task, Euclidean Distance is suitable.  \n",
    "\n",
    "**Manhatten Distance**  is used in case of high dimensional data. Manhattan gives robust results in case when the data has discrete and binary attributes.\n",
    "\n",
    "**Mahalanobis Distance** is an effective method to calculate the similarity of two unknown sample sets. Different from Euclidean distance, it takes into account the relationship between various characteristics and is scale independent,\n",
    "that is, independent of the measurement scale.\n"
   ]
  },
  {
   "cell_type": "markdown",
   "metadata": {},
   "source": [
    "## Part 3: Synthetic Titanic Survival Prediction"
   ]
  },
  {
   "cell_type": "markdown",
   "metadata": {},
   "source": [
    "### Dataset\n",
    "\n",
    "Read the description here: https://www.kaggle.com/c/tabular-playground-series-apr-2021/data. Download the dataset and place it in the *data/titanic/* folder in your working directory.\n",
    "You will use train.csv for model training and validation. The test set is used for model testing: once the model is trained, you can predict whether a passenger survived or not for each passenger in the test set, and submit the predictions: https://www.kaggle.com/c/tabular-playground-series-apr-2021/overview/evaluation.  \n"
   ]
  },
  {
   "cell_type": "markdown",
   "metadata": {},
   "source": [
    "**NOTE:** For this assignment, I will use excerpts from my research done in EDA task.\n",
    "\n",
    "[Assignment 2](https://github.com/VictoriaLebedeva/eda-ml-2022/blob/main/tabular_playground_series.ipynb)\n",
    "\n",
    "In short, prevously I got the following conclusion about survival rate.\n",
    "\n",
    "> With the help of EDA I was able to find out that the most significant survival factors were Sex (more important) and Pclass. And the high survival \n",
    "> rate among 1st and 2nd class passengers is due to the fact that these people were closer to the evacuation zone at the time of the accident.\n",
    "\n",
    "> More data insights:\n",
    "> * **Children**. Children (44%) actually had a better chance of survival than adults (40%). However, pclass also mattered for the child as much as for the adult. It has been observed that children who were on board with one parent had a better chance of survival.\n",
    "> * **Men**. Unfortunately for men, only the pclass mattered: closeness to the evacuation zone.\n",
    "> * **Port of Emabarkation**. It has been shown that the distribution of survivors by port is related to the distribution of classes of passengers who boarded at a particular port. So, this feature is less important, than passengers class.\n",
    "> * **Fare**. Cost of the ticket was realated to passengers class.\n",
    "> * **Number of family members**. Members of families where the number of people was more than 3 were less likely to survive.\n",
    "Thus, the success of rescue from the Titanic depended on the gender of the passenger, whether the passenger was a child, and his closeness to the evacuation zone at the time of the disaster."
   ]
  },
  {
   "cell_type": "markdown",
   "metadata": {},
   "source": [
    "### Data Ingestion"
   ]
  },
  {
   "cell_type": "code",
   "execution_count": 353,
   "metadata": {},
   "outputs": [],
   "source": [
    "# get data path\n",
    "PATH = \"./data\"\n",
    "df = pd.read_csv(os.path.join(PATH, 'titanic', 'train.csv')).set_index('PassengerId')\n",
    "\n",
    "# frame preprocessing\n",
    "df.columns = df.columns.str.lower()"
   ]
  },
  {
   "cell_type": "code",
   "execution_count": 354,
   "metadata": {
    "scrolled": true
   },
   "outputs": [
    {
     "data": {
      "text/html": [
       "<div>\n",
       "<style scoped>\n",
       "    .dataframe tbody tr th:only-of-type {\n",
       "        vertical-align: middle;\n",
       "    }\n",
       "\n",
       "    .dataframe tbody tr th {\n",
       "        vertical-align: top;\n",
       "    }\n",
       "\n",
       "    .dataframe thead th {\n",
       "        text-align: right;\n",
       "    }\n",
       "</style>\n",
       "<table border=\"1\" class=\"dataframe\">\n",
       "  <thead>\n",
       "    <tr style=\"text-align: right;\">\n",
       "      <th></th>\n",
       "      <th>survived</th>\n",
       "      <th>pclass</th>\n",
       "      <th>name</th>\n",
       "      <th>sex</th>\n",
       "      <th>age</th>\n",
       "      <th>sibsp</th>\n",
       "      <th>parch</th>\n",
       "      <th>ticket</th>\n",
       "      <th>fare</th>\n",
       "      <th>cabin</th>\n",
       "      <th>embarked</th>\n",
       "    </tr>\n",
       "    <tr>\n",
       "      <th>PassengerId</th>\n",
       "      <th></th>\n",
       "      <th></th>\n",
       "      <th></th>\n",
       "      <th></th>\n",
       "      <th></th>\n",
       "      <th></th>\n",
       "      <th></th>\n",
       "      <th></th>\n",
       "      <th></th>\n",
       "      <th></th>\n",
       "      <th></th>\n",
       "    </tr>\n",
       "  </thead>\n",
       "  <tbody>\n",
       "    <tr>\n",
       "      <th>0</th>\n",
       "      <td>1</td>\n",
       "      <td>1</td>\n",
       "      <td>Oconnor, Frankie</td>\n",
       "      <td>male</td>\n",
       "      <td>NaN</td>\n",
       "      <td>2</td>\n",
       "      <td>0</td>\n",
       "      <td>209245</td>\n",
       "      <td>27.14</td>\n",
       "      <td>C12239</td>\n",
       "      <td>S</td>\n",
       "    </tr>\n",
       "    <tr>\n",
       "      <th>1</th>\n",
       "      <td>0</td>\n",
       "      <td>3</td>\n",
       "      <td>Bryan, Drew</td>\n",
       "      <td>male</td>\n",
       "      <td>NaN</td>\n",
       "      <td>0</td>\n",
       "      <td>0</td>\n",
       "      <td>27323</td>\n",
       "      <td>13.35</td>\n",
       "      <td>NaN</td>\n",
       "      <td>S</td>\n",
       "    </tr>\n",
       "    <tr>\n",
       "      <th>2</th>\n",
       "      <td>0</td>\n",
       "      <td>3</td>\n",
       "      <td>Owens, Kenneth</td>\n",
       "      <td>male</td>\n",
       "      <td>0.33</td>\n",
       "      <td>1</td>\n",
       "      <td>2</td>\n",
       "      <td>CA 457703</td>\n",
       "      <td>71.29</td>\n",
       "      <td>NaN</td>\n",
       "      <td>S</td>\n",
       "    </tr>\n",
       "    <tr>\n",
       "      <th>3</th>\n",
       "      <td>0</td>\n",
       "      <td>3</td>\n",
       "      <td>Kramer, James</td>\n",
       "      <td>male</td>\n",
       "      <td>19.00</td>\n",
       "      <td>0</td>\n",
       "      <td>0</td>\n",
       "      <td>A. 10866</td>\n",
       "      <td>13.04</td>\n",
       "      <td>NaN</td>\n",
       "      <td>S</td>\n",
       "    </tr>\n",
       "    <tr>\n",
       "      <th>4</th>\n",
       "      <td>1</td>\n",
       "      <td>3</td>\n",
       "      <td>Bond, Michael</td>\n",
       "      <td>male</td>\n",
       "      <td>25.00</td>\n",
       "      <td>0</td>\n",
       "      <td>0</td>\n",
       "      <td>427635</td>\n",
       "      <td>7.76</td>\n",
       "      <td>NaN</td>\n",
       "      <td>S</td>\n",
       "    </tr>\n",
       "    <tr>\n",
       "      <th>99995</th>\n",
       "      <td>1</td>\n",
       "      <td>2</td>\n",
       "      <td>Bell, Adele</td>\n",
       "      <td>female</td>\n",
       "      <td>62.00</td>\n",
       "      <td>0</td>\n",
       "      <td>0</td>\n",
       "      <td>PC 15008</td>\n",
       "      <td>14.86</td>\n",
       "      <td>D17243</td>\n",
       "      <td>C</td>\n",
       "    </tr>\n",
       "    <tr>\n",
       "      <th>99996</th>\n",
       "      <td>0</td>\n",
       "      <td>2</td>\n",
       "      <td>Brown, Herman</td>\n",
       "      <td>male</td>\n",
       "      <td>66.00</td>\n",
       "      <td>0</td>\n",
       "      <td>0</td>\n",
       "      <td>13273</td>\n",
       "      <td>11.15</td>\n",
       "      <td>NaN</td>\n",
       "      <td>S</td>\n",
       "    </tr>\n",
       "    <tr>\n",
       "      <th>99997</th>\n",
       "      <td>0</td>\n",
       "      <td>3</td>\n",
       "      <td>Childress, Charles</td>\n",
       "      <td>male</td>\n",
       "      <td>37.00</td>\n",
       "      <td>0</td>\n",
       "      <td>0</td>\n",
       "      <td>NaN</td>\n",
       "      <td>9.95</td>\n",
       "      <td>NaN</td>\n",
       "      <td>S</td>\n",
       "    </tr>\n",
       "    <tr>\n",
       "      <th>99998</th>\n",
       "      <td>0</td>\n",
       "      <td>3</td>\n",
       "      <td>Caughlin, Thomas</td>\n",
       "      <td>male</td>\n",
       "      <td>51.00</td>\n",
       "      <td>0</td>\n",
       "      <td>1</td>\n",
       "      <td>458654</td>\n",
       "      <td>30.92</td>\n",
       "      <td>NaN</td>\n",
       "      <td>S</td>\n",
       "    </tr>\n",
       "    <tr>\n",
       "      <th>99999</th>\n",
       "      <td>0</td>\n",
       "      <td>3</td>\n",
       "      <td>Enciso, Tyler</td>\n",
       "      <td>male</td>\n",
       "      <td>55.00</td>\n",
       "      <td>0</td>\n",
       "      <td>0</td>\n",
       "      <td>458074</td>\n",
       "      <td>13.96</td>\n",
       "      <td>NaN</td>\n",
       "      <td>S</td>\n",
       "    </tr>\n",
       "  </tbody>\n",
       "</table>\n",
       "</div>"
      ],
      "text/plain": [
       "             survived  pclass                name     sex    age  sibsp  \\\n",
       "PassengerId                                                               \n",
       "0                   1       1    Oconnor, Frankie    male    NaN      2   \n",
       "1                   0       3         Bryan, Drew    male    NaN      0   \n",
       "2                   0       3      Owens, Kenneth    male   0.33      1   \n",
       "3                   0       3       Kramer, James    male  19.00      0   \n",
       "4                   1       3       Bond, Michael    male  25.00      0   \n",
       "99995               1       2         Bell, Adele  female  62.00      0   \n",
       "99996               0       2       Brown, Herman    male  66.00      0   \n",
       "99997               0       3  Childress, Charles    male  37.00      0   \n",
       "99998               0       3    Caughlin, Thomas    male  51.00      0   \n",
       "99999               0       3       Enciso, Tyler    male  55.00      0   \n",
       "\n",
       "             parch     ticket   fare   cabin embarked  \n",
       "PassengerId                                            \n",
       "0                0     209245  27.14  C12239        S  \n",
       "1                0      27323  13.35     NaN        S  \n",
       "2                2  CA 457703  71.29     NaN        S  \n",
       "3                0   A. 10866  13.04     NaN        S  \n",
       "4                0     427635   7.76     NaN        S  \n",
       "99995            0   PC 15008  14.86  D17243        C  \n",
       "99996            0      13273  11.15     NaN        S  \n",
       "99997            0        NaN   9.95     NaN        S  \n",
       "99998            1     458654  30.92     NaN        S  \n",
       "99999            0     458074  13.96     NaN        S  "
      ]
     },
     "execution_count": 354,
     "metadata": {},
     "output_type": "execute_result"
    }
   ],
   "source": [
    "df.head().append(df.tail())"
   ]
  },
  {
   "cell_type": "code",
   "execution_count": 355,
   "metadata": {},
   "outputs": [
    {
     "name": "stdout",
     "output_type": "stream",
     "text": [
      "Number of observaions: 100000\n",
      "Number of observaions: 11\n"
     ]
    }
   ],
   "source": [
    "print('Number of observaions:', df.shape[0])\n",
    "print('Number of observaions:', df.shape[1])"
   ]
  },
  {
   "cell_type": "markdown",
   "metadata": {},
   "source": [
    "### EDA"
   ]
  },
  {
   "cell_type": "markdown",
   "metadata": {},
   "source": [
    "**(0.5 points)** How many females and males are there in the dataset? What about the survived passengers? Is there any relationship between the gender and the survival?"
   ]
  },
  {
   "cell_type": "code",
   "execution_count": 356,
   "metadata": {},
   "outputs": [
    {
     "data": {
      "text/plain": [
       "<AxesSubplot:title={'center':'Sex — Survived'}, xlabel='sex', ylabel='count'>"
      ]
     },
     "execution_count": 356,
     "metadata": {},
     "output_type": "execute_result"
    },
    {
     "data": {
      "image/png": "[encoded data removed]",
      "text/plain": [
       "<Figure size 1224x360 with 3 Axes>"
      ]
     },
     "metadata": {
      "needs_background": "light"
     },
     "output_type": "display_data"
    }
   ],
   "source": [
    "fig, ax = plt.subplots(1, 3, figsize=(17, 5))\n",
    "fig.tight_layout(pad=3.0)\n",
    "sns.set_palette(\"pastel\")\n",
    "\n",
    "ax[0].set_title('Percentage of Men and Women on board')\n",
    "ax[0].set_xlabel('Sex')\n",
    "df['sex'].value_counts().plot.pie(ax=ax[0], autopct = '%1.2f%%', explode=[0, 0.05])\n",
    "\n",
    "ax[1].set_title('Survived and Deceased passengers')\n",
    "ax[1].set_xlabel('Survived')\n",
    "ax[1].set_ylabel('Number of Passengers')\n",
    "sns.countplot(x='survived', data=df, ax=ax[1])\n",
    "\n",
    "ax[2].set_title('Sex — Survived')\n",
    "ax[2].set_xlabel('Sex')\n",
    "ax[2].set_ylabel('Number of Passengers')\n",
    "sns.countplot(x='sex', data=df, ax=ax[2], hue='survived')"
   ]
  },
  {
   "cell_type": "markdown",
   "metadata": {},
   "source": [
    "From the graphs above we can see that\n",
    "* There were more men on board (~56.11%) than women **(first plot)**.\n",
    "* There were more deaths as a result of the disaster than survivors **(second plot)**.\n",
    "* There were more women among the surviving passengers **(third plot)**. "
   ]
  },
  {
   "cell_type": "markdown",
   "metadata": {},
   "source": [
    "**(0.5 points)** Plot age distribution of the passengers. What is the average and the median age of survived and deceased passengers? Do age distributions differ for survived and deceased passengers? Why?"
   ]
  },
  {
   "cell_type": "code",
   "execution_count": 357,
   "metadata": {},
   "outputs": [
    {
     "data": {
      "text/plain": [
       "Text(643.4181818181817, 0.5, 'Number of Passengers')"
      ]
     },
     "execution_count": 357,
     "metadata": {},
     "output_type": "execute_result"
    },
    {
     "data": {
      "image/png": "[encoded data removed]",
      "text/plain": [
       "<Figure size 1224x360 with 2 Axes>"
      ]
     },
     "metadata": {
      "needs_background": "light"
     },
     "output_type": "display_data"
    }
   ],
   "source": [
    "fig, ax = plt.subplots(1, 2, figsize=(17, 5))\n",
    "fig.tight_layout(pad=3.0)\n",
    "sns.set_palette(\"pastel\")\n",
    "\n",
    "bins = [0, 10, 20, 30, 40, 50, 60, 70, 80, 90]\n",
    "\n",
    "sns.histplot(df, x='age', bins=bins, ax=ax[0])\n",
    "ax[0].set_title('Distribution by Age ranges')\n",
    "ax[0].set_xlabel('Age')\n",
    "ax[0].set_ylabel('Number of Passengers')\n",
    "\n",
    "sns.histplot(df, x='age', hue='survived', bins=bins, ax=ax[1])\n",
    "ax[1].set_title('Age vs Survived')\n",
    "ax[1].set_xlabel('Age')\n",
    "ax[1].set_ylabel('Number of Passengers')\n"
   ]
  },
  {
   "cell_type": "markdown",
   "metadata": {},
   "source": [
    "The distribution of age is slightly right skewed. As we can see, it was mostly people from 20 to 60 years old who were on board the Titanic. There were more children than teenagers. Old people were the least numerous.  \n",
    "\n",
    "You can see from the graph that, in general, the survival rate among people over 60 is higher than that of people under 20. We can also see that the greatest number of victims was between the ages from 20 to 40."
   ]
  },
  {
   "cell_type": "code",
   "execution_count": 358,
   "metadata": {},
   "outputs": [
    {
     "data": {
      "text/html": [
       "<div>\n",
       "<style scoped>\n",
       "    .dataframe tbody tr th:only-of-type {\n",
       "        vertical-align: middle;\n",
       "    }\n",
       "\n",
       "    .dataframe tbody tr th {\n",
       "        vertical-align: top;\n",
       "    }\n",
       "\n",
       "    .dataframe thead th {\n",
       "        text-align: right;\n",
       "    }\n",
       "</style>\n",
       "<table border=\"1\" class=\"dataframe\">\n",
       "  <thead>\n",
       "    <tr style=\"text-align: right;\">\n",
       "      <th></th>\n",
       "      <th>count</th>\n",
       "      <th>mean</th>\n",
       "      <th>std</th>\n",
       "      <th>min</th>\n",
       "      <th>25%</th>\n",
       "      <th>50%</th>\n",
       "      <th>75%</th>\n",
       "      <th>max</th>\n",
       "    </tr>\n",
       "    <tr>\n",
       "      <th>survived</th>\n",
       "      <th></th>\n",
       "      <th></th>\n",
       "      <th></th>\n",
       "      <th></th>\n",
       "      <th></th>\n",
       "      <th></th>\n",
       "      <th></th>\n",
       "      <th></th>\n",
       "    </tr>\n",
       "  </thead>\n",
       "  <tbody>\n",
       "    <tr>\n",
       "      <th>0</th>\n",
       "      <td>55290.0</td>\n",
       "      <td>36.708695</td>\n",
       "      <td>17.809058</td>\n",
       "      <td>0.08</td>\n",
       "      <td>24.0</td>\n",
       "      <td>36.0</td>\n",
       "      <td>52.0</td>\n",
       "      <td>83.0</td>\n",
       "    </tr>\n",
       "    <tr>\n",
       "      <th>1</th>\n",
       "      <td>41418.0</td>\n",
       "      <td>40.553799</td>\n",
       "      <td>18.742172</td>\n",
       "      <td>0.08</td>\n",
       "      <td>27.0</td>\n",
       "      <td>43.0</td>\n",
       "      <td>55.0</td>\n",
       "      <td>87.0</td>\n",
       "    </tr>\n",
       "  </tbody>\n",
       "</table>\n",
       "</div>"
      ],
      "text/plain": [
       "            count       mean        std   min   25%   50%   75%   max\n",
       "survived                                                             \n",
       "0         55290.0  36.708695  17.809058  0.08  24.0  36.0  52.0  83.0\n",
       "1         41418.0  40.553799  18.742172  0.08  27.0  43.0  55.0  87.0"
      ]
     },
     "execution_count": 358,
     "metadata": {},
     "output_type": "execute_result"
    }
   ],
   "source": [
    "pd.DataFrame(df.groupby('survived')['age'].describe())"
   ]
  },
  {
   "cell_type": "markdown",
   "metadata": {},
   "source": [
    "Judging by the descriptive statistics, the passengers who survived were, on average, slightly older than those who died."
   ]
  },
  {
   "cell_type": "code",
   "execution_count": 359,
   "metadata": {},
   "outputs": [
    {
     "name": "stdout",
     "output_type": "stream",
     "text": [
      "Ratio of survivors to the total number of passengers by age group\n",
      "Children (0-16): 44.189\n",
      "Adult (17-60): 40.895\n",
      "Elderly people (61-90): 52.954\n"
     ]
    }
   ],
   "source": [
    "print('Ratio of survivors to the total number of passengers by age group')\n",
    "print('Children (0-16):', round(df[(df['age'] <= 16) & (df['survived'] == 1)].shape[0] / df[df['age'] <= 16].shape[0] * 100, 3))\n",
    "print('Adult (17-60):', round(df[(df['age'].between(16, 60)) & (df['survived'] == 1)].shape[0] / df[df['age'].between(16, 60)].shape[0] * 100, 3))\n",
    "print('Elderly people (61-90):', round(df[(df['age'] >= 60) & (df['survived'] == 1)].shape[0] / df[df['age'] >= 60].shape[0] * 100, 3,))"
   ]
  },
  {
   "cell_type": "markdown",
   "metadata": {},
   "source": [
    "The difference in age between the survivors and the dead is due to the fact that the older passengers traveled first class."
   ]
  },
  {
   "cell_type": "code",
   "execution_count": 360,
   "metadata": {},
   "outputs": [
    {
     "data": {
      "text/plain": [
       "([<matplotlib.axis.XTick at 0x2174b20e550>,\n",
       "  <matplotlib.axis.XTick at 0x2174b20e520>,\n",
       "  <matplotlib.axis.XTick at 0x2174b1ea3a0>],\n",
       " [Text(0, 0, '1st class'), Text(1, 0, '2nd class'), Text(2, 0, '3rd class')])"
      ]
     },
     "execution_count": 360,
     "metadata": {},
     "output_type": "execute_result"
    },
    {
     "data": {
      "image/png": "[encoded data removed]",
      "text/plain": [
       "<Figure size 432x288 with 1 Axes>"
      ]
     },
     "metadata": {
      "needs_background": "light"
     },
     "output_type": "display_data"
    }
   ],
   "source": [
    "sns.boxplot(x='pclass', y='age', hue='sex', data=df)\n",
    "plt.xlabel('Passengers class')\n",
    "plt.title('Sex-Age-Pclass')\n",
    "plt.xticks(np.arange(3), ['1st class', '2nd class', '3rd class'])"
   ]
  },
  {
   "cell_type": "markdown",
   "metadata": {},
   "source": [
    "**(1 point)** Explore \"passenger class\" and \"embarked\" features. What class was \"the safest\"? Is there any relationship between the embarkation port and the survival? Provide the corresponding visualizations."
   ]
  },
  {
   "cell_type": "code",
   "execution_count": 361,
   "metadata": {},
   "outputs": [
    {
     "data": {
      "text/plain": [
       "Text(0.5, 24.0, 'Port of embarkation')"
      ]
     },
     "execution_count": 361,
     "metadata": {},
     "output_type": "execute_result"
    },
    {
     "data": {
      "image/png": "[encoded data removed]",
      "text/plain": [
       "<Figure size 1224x360 with 3 Axes>"
      ]
     },
     "metadata": {
      "needs_background": "light"
     },
     "output_type": "display_data"
    }
   ],
   "source": [
    "fig, ax = plt.subplots(1, 3, figsize=(17, 5))\n",
    "fig.tight_layout(pad=3.0)\n",
    "\n",
    "ax[0].set_title('Passengers by pclass')\n",
    "ax[0].set_ylabel('Number of Passengers')\n",
    "sns.countplot(x='pclass', data=df, ax=ax[0])\n",
    "\n",
    "ax[1].set_title('Passengers by pclass')\n",
    "ax[1].set_ylabel('Number of Passengers')\n",
    "sns.countplot(x='pclass', data=df, hue='survived', ax=ax[1])\n",
    "\n",
    "sns.histplot(x='embarked', hue='pclass', data=df, multiple='stack', ax=ax[2])\n",
    "ax[2].set_title('Pclass dictribution across ports')\n",
    "ax[2].set_ylabel('Number of Passengers')\n",
    "ax[2].set_xlabel('Port of embarkation')"
   ]
  },
  {
   "cell_type": "markdown",
   "metadata": {},
   "source": [
    "Most of the passengers traveled in third class, with almost equal numbers of first and second class passengers. First class passengers had a better (slightly better) chance of survival than second and third class passengers. The greatest number of deaths was among third-class passengers. Port of embarkation has no effect on the chances of survival, due to the distribution of passengers of different classes between these ports, as the graph confirms."
   ]
  },
  {
   "cell_type": "markdown",
   "metadata": {},
   "source": [
    "### Modelling"
   ]
  },
  {
   "cell_type": "markdown",
   "metadata": {},
   "source": [
    "**(0.5 points)** Find the percentage of missing values for each feature. "
   ]
  },
  {
   "cell_type": "code",
   "execution_count": 362,
   "metadata": {},
   "outputs": [
    {
     "name": "stdout",
     "output_type": "stream",
     "text": [
      "Persentage of missing values:\n"
     ]
    },
    {
     "data": {
      "text/plain": [
       "survived     0.000\n",
       "pclass       0.000\n",
       "name         0.000\n",
       "sex          0.000\n",
       "age          3.292\n",
       "sibsp        0.000\n",
       "parch        0.000\n",
       "ticket       4.623\n",
       "fare         0.134\n",
       "cabin       67.866\n",
       "embarked     0.250\n",
       "dtype: float64"
      ]
     },
     "execution_count": 362,
     "metadata": {},
     "output_type": "execute_result"
    }
   ],
   "source": [
    "print('Persentage of missing values:')\n",
    "df.isnull().sum() / df.shape[0] * 100"
   ]
  },
  {
   "cell_type": "markdown",
   "metadata": {},
   "source": [
    "Think about the ways to handle these missing values for modelling and write your answer below. Which methods would you suggest? What are their advantages and disadvantages?\n",
    "\n",
    "We see the missing values in the columns:\n",
    "1) **Age**. Here the forgiven values are about 3 percent. You can delete them, as some information will be lost. But it is worth trying to fill in the missing data. This is good practice, because often the quality of the model is poor, because it, in particular, did not have enough data to learn. In the case of age, the data can be filled in with the average value. Machine learning techniques are also used in practice.\n",
    "\n",
    "2) There are also columns that contain irrelevant data, such as **Ticket** (4.623%). Such attributes can be omitted from the model. \n",
    "\n",
    "3) There is a trait with 67.866% missing values. This is **Cabin**. In my research (there is a link at the beginning of the third assignment), it was shown that, in theory, the location of the Cabin played a role in saving the passengers. However, to apply this feature in the classifier, you must fill in the missing values. Because there are too many missing values, we may reconstruct the data incorrectly, which would add noise to our model. Therefore, it is also advisable not to include the feature in the model. \n",
    "\n",
    "4) There are not many forgiven values in **Fare** and **Embarked**, so you can just delete those rows. \n"
   ]
  },
  {
   "cell_type": "code",
   "execution_count": 363,
   "metadata": {},
   "outputs": [
    {
     "data": {
      "text/plain": [
       "sex     pclass\n",
       "female  1         47.0\n",
       "        2         39.0\n",
       "        3         32.0\n",
       "male    1         42.0\n",
       "        2         38.0\n",
       "        3         34.0\n",
       "Name: age, dtype: float64"
      ]
     },
     "execution_count": 363,
     "metadata": {},
     "output_type": "execute_result"
    }
   ],
   "source": [
    "df = df.drop('cabin', axis=1)\n",
    "df.groupby(['sex', 'pclass'])['age'].mean().round()"
   ]
  },
  {
   "cell_type": "code",
   "execution_count": 364,
   "metadata": {},
   "outputs": [],
   "source": [
    "# replace values by condition\n",
    "df.loc[(df['sex'] == 'female') & (df['pclass'] == 1) & df['age'].isna(), 'age'] = 47\n",
    "df.loc[(df['sex'] == 'female') & (df['pclass'] == 2) & df['age'].isna(), 'age'] = 39\n",
    "df.loc[(df['sex'] == 'female') & (df['pclass'] == 3) & df['age'].isna(), 'age'] = 32\n",
    "\n",
    "df.loc[(df['sex'] == 'male') & (df['pclass'] == 1) & df['age'].isna(), 'age'] = 42\n",
    "df.loc[(df['sex'] == 'male') & (df['pclass'] == 2) & df['age'].isna(), 'age'] = 38\n",
    "df.loc[(df['sex'] == 'male') & (df['pclass'] == 3) & df['age'].isna(), 'age'] = 34"
   ]
  },
  {
   "cell_type": "code",
   "execution_count": 365,
   "metadata": {},
   "outputs": [
    {
     "data": {
      "text/plain": [
       "survived    0\n",
       "pclass      0\n",
       "name        0\n",
       "sex         0\n",
       "age         0\n",
       "sibsp       0\n",
       "parch       0\n",
       "ticket      0\n",
       "fare        0\n",
       "embarked    0\n",
       "dtype: int64"
      ]
     },
     "execution_count": 365,
     "metadata": {},
     "output_type": "execute_result"
    }
   ],
   "source": [
    "df = df.dropna(axis=0)\n",
    "df.isna().sum()"
   ]
  },
  {
   "cell_type": "markdown",
   "metadata": {},
   "source": [
    "**(1.5 points)** Prepare the features and train two models (KNN and Logistic Regression) to predict the survival. Compare the results. Use accuracy as a metric. Don't forget about cross-validation!"
   ]
  },
  {
   "cell_type": "markdown",
   "metadata": {},
   "source": [
    "### Features preparation"
   ]
  },
  {
   "cell_type": "markdown",
   "metadata": {},
   "source": [
    "Let's start by separating the whole variable from the predictors. "
   ]
  },
  {
   "cell_type": "code",
   "execution_count": 366,
   "metadata": {},
   "outputs": [],
   "source": [
    "y = df['survived']\n",
    "X = df.drop('survived', axis=1)"
   ]
  },
  {
   "cell_type": "markdown",
   "metadata": {},
   "source": [
    "Let's look at the data types again."
   ]
  },
  {
   "cell_type": "code",
   "execution_count": 367,
   "metadata": {},
   "outputs": [
    {
     "data": {
      "text/plain": [
       "pclass        int64\n",
       "name         object\n",
       "sex          object\n",
       "age         float64\n",
       "sibsp         int64\n",
       "parch         int64\n",
       "ticket       object\n",
       "fare        float64\n",
       "embarked     object\n",
       "dtype: object"
      ]
     },
     "execution_count": 367,
     "metadata": {},
     "output_type": "execute_result"
    }
   ],
   "source": [
    "X.dtypes"
   ]
  },
  {
   "cell_type": "markdown",
   "metadata": {},
   "source": [
    "The passenger name can be considered irrelevant, as well as the Ticket feature. So let's exclude these attributes from the dataset.  \n",
    "\n",
    "And encode the remaining categorical variables.\n"
   ]
  },
  {
   "cell_type": "code",
   "execution_count": 368,
   "metadata": {},
   "outputs": [],
   "source": [
    "# drop irrelevant features\n",
    "X = X.drop(['name', 'ticket'], axis=1)\n",
    "\n",
    "# encode categorical features\n",
    "sex = pd.get_dummies(X['sex'], drop_first=True, prefix='sex')\n",
    "embark = pd.get_dummies(X['embarked'], drop_first=True, prefix='embarked')\n",
    "X = pd.concat([X, sex, embark], axis=1)\n",
    "\n",
    "# drop categorical features\n",
    "X.drop(['sex','embarked'], axis=1,inplace=True)\n"
   ]
  },
  {
   "cell_type": "markdown",
   "metadata": {},
   "source": [
    "Split dataset on training and test."
   ]
  },
  {
   "cell_type": "code",
   "execution_count": 369,
   "metadata": {},
   "outputs": [],
   "source": [
    "X_train, X_val, y_train, y_val = train_test_split(X, y, test_size=0.2, random_state=1)"
   ]
  },
  {
   "cell_type": "markdown",
   "metadata": {},
   "source": [
    "#### Logistic regression"
   ]
  },
  {
   "cell_type": "code",
   "execution_count": 370,
   "metadata": {},
   "outputs": [
    {
     "name": "stdout",
     "output_type": "stream",
     "text": [
      "Cross-Validation Accuracy Scores (Train) : [0.77121431 0.76983292 0.76942306 0.77297546 0.77764621]\n",
      "Accuracy score (Test) : 0.7669718976949794\n",
      "Model coefs:  [[-5.39263915e-01 -1.82024693e-04 -8.80617249e-02 -3.77303962e-02\n",
      "   1.33010974e-03 -2.00935275e+00 -8.10123823e-01 -1.17614432e+00]]\n"
     ]
    }
   ],
   "source": [
    "from sklearn.linear_model import LogisticRegression\n",
    "from sklearn.model_selection import cross_val_score\n",
    "\n",
    "clf = LogisticRegression()\n",
    "clf.fit(X_train,y_train)\n",
    "\n",
    "scores = cross_val_score(clf, X_train, y_train, cv=5)\n",
    "print('Cross-Validation Accuracy Scores (Train) :', scores)\n",
    "print('Accuracy score (Test) :', clf.score(X_val, y_val))\n",
    "print('Model coefs: ', clf.coef_)"
   ]
  },
  {
   "cell_type": "code",
   "execution_count": 372,
   "metadata": {},
   "outputs": [
    {
     "data": {
      "text/plain": [
       "<AxesSubplot:>"
      ]
     },
     "execution_count": 372,
     "metadata": {},
     "output_type": "execute_result"
    },
    {
     "data": {
      "image/png": "[encoded data removed]",
      "text/plain": [
       "<Figure size 432x288 with 2 Axes>"
      ]
     },
     "metadata": {
      "needs_background": "light"
     },
     "output_type": "display_data"
    }
   ],
   "source": [
    "from sklearn.metrics import confusion_matrix\n",
    "confusion_matrix = confusion_matrix(y_val, clf.predict(X_val))\n",
    "sns.heatmap(confusion_matrix, annot=True)"
   ]
  },
  {
   "cell_type": "markdown",
   "metadata": {},
   "source": [
    "#### kNN "
   ]
  },
  {
   "cell_type": "code",
   "execution_count": 374,
   "metadata": {},
   "outputs": [
    {
     "name": "stdout",
     "output_type": "stream",
     "text": [
      "Cross-Validation Accuracy Scores (Train) : [0.72523352 0.723589   0.73080718 0.72297875 0.73363595]\n",
      "Accuracy score (Test) : 0.7300284180612567\n"
     ]
    }
   ],
   "source": [
    "knn_clf = KNeighborsClassifier()\n",
    "knn_clf.fit(X_train,y_train)\n",
    "\n",
    "scores = cross_val_score(knn_clf, X_train, y_train, cv=5)\n",
    "print('Cross-Validation Accuracy Scores (Train) :', scores)\n",
    "print('Accuracy score (Test) :', knn_clf.score(X_val, y_val))"
   ]
  },
  {
   "cell_type": "markdown",
   "metadata": {},
   "source": [
    "For starters, the results are bearable: Logistic regression showed better results than kNN. However, now let's try to improve the model predictions. "
   ]
  },
  {
   "cell_type": "markdown",
   "metadata": {},
   "source": [
    "**(0.5 + X points)** Try more feature engineering and hyperparameter tuning to improve the results. You may use either KNN or Logistic Regression (or both)."
   ]
  },
  {
   "cell_type": "markdown",
   "metadata": {},
   "source": [
    "SibSp and Parch can be combined into one column, since they carry information about family members. "
   ]
  },
  {
   "cell_type": "markdown",
   "metadata": {},
   "source": [
    "#### Feature engineering"
   ]
  },
  {
   "cell_type": "code",
   "execution_count": 375,
   "metadata": {},
   "outputs": [],
   "source": [
    "from sklearn.preprocessing import StandardScaler\n",
    "\n",
    "X['family_size'] = X['sibsp'] + X['parch'] + 1\n",
    "\n",
    "pclass = pd.get_dummies(X['pclass'], drop_first=True, prefix='pclass_')\n",
    "X = pd.concat([X, pclass], axis=1)\n",
    "X.drop('pclass', axis=1)\n",
    "\n",
    "scaler = StandardScaler()\n",
    "X = scaler.fit_transform(X)"
   ]
  },
  {
   "cell_type": "code",
   "execution_count": 376,
   "metadata": {},
   "outputs": [],
   "source": [
    "X_train, X_val, y_train, y_val = train_test_split(X, y, test_size=0.2, random_state=1)"
   ]
  },
  {
   "cell_type": "markdown",
   "metadata": {},
   "source": [
    "#### Logistic regression tuning"
   ]
  },
  {
   "cell_type": "code",
   "execution_count": 377,
   "metadata": {},
   "outputs": [
    {
     "name": "stdout",
     "output_type": "stream",
     "text": [
      "Cross-Validation Accuracy Scores (Train) : [0.77141166 0.77134588 0.77738307 0.77356753 0.77975133]\n",
      "Accuracy score (Test) : 0.7679191664035365\n"
     ]
    }
   ],
   "source": [
    "clf = LogisticRegression()\n",
    "clf.fit(X_train,y_train)\n",
    "\n",
    "scores = cross_val_score(clf, X_train, y_train, cv=5)\n",
    "print('Cross-Validation Accuracy Scores (Train) :', scores)\n",
    "print('Accuracy score (Test) :', clf.score(X_val, y_val))"
   ]
  },
  {
   "cell_type": "code",
   "execution_count": 378,
   "metadata": {},
   "outputs": [
    {
     "name": "stdout",
     "output_type": "stream",
     "text": [
      "Best: 0.774823 using {'C': 0.01, 'penalty': 'l2', 'solver': 'liblinear'}\n"
     ]
    }
   ],
   "source": [
    "clf = LogisticRegression()\n",
    "\n",
    "param_grid = {\n",
    "    'solver': ['newton-cg', 'lbfgs', 'liblinear'],\n",
    "    'penalty': ['l2'],\n",
    "    'C':  [100, 10, 1.0, 0.1, 0.01]\n",
    "}\n",
    "\n",
    "grid_search = GridSearchCV(clf, param_grid=param_grid,\n",
    "                           n_jobs=-1, cv=5, scoring='accuracy', error_score=0)\n",
    "grid_result = grid_search.fit(X_train, y_train)\n",
    "\n",
    "print(\"Best: %f using %s\" % (grid_result.best_score_, grid_result.best_params_))"
   ]
  },
  {
   "cell_type": "markdown",
   "metadata": {},
   "source": [
    "#### kNN tuning"
   ]
  },
  {
   "cell_type": "code",
   "execution_count": 379,
   "metadata": {},
   "outputs": [],
   "source": [
    "from sklearn.model_selection import GridSearchCV\n",
    "\n",
    "param_grid = {\n",
    "    \"n_neighbors\": np.arange(2, 10),\n",
    "    \"weights\": [\"uniform\", \"distance\"]\n",
    "}\n",
    "\n",
    "gscv = GridSearchCV(knn_clf, cv=5, param_grid=param_grid, scoring='accuracy')\n",
    "gscv_result = gscv.fit(X_train, y_train)\n"
   ]
  },
  {
   "cell_type": "code",
   "execution_count": 380,
   "metadata": {},
   "outputs": [],
   "source": [
    "best_acc_score=gscv_result.best_score_\n",
    "best_params=gscv_result.best_params_"
   ]
  },
  {
   "cell_type": "code",
   "execution_count": 381,
   "metadata": {},
   "outputs": [
    {
     "data": {
      "text/plain": [
       "(0.7621798419098391, {'n_neighbors': 9, 'weights': 'uniform'})"
      ]
     },
     "execution_count": 381,
     "metadata": {},
     "output_type": "execute_result"
    }
   ],
   "source": [
    "best_acc_score, best_params"
   ]
  },
  {
   "cell_type": "markdown",
   "metadata": {},
   "source": [
    "Actually, we've got a better result than previous kNN model. Probably, scaling data had an affect on prediction ability. But it is still not enough for good prediction. "
   ]
  },
  {
   "cell_type": "markdown",
   "metadata": {},
   "source": [
    "Select the best model, load the test set and make the predictions. Submit them to kaggle and see the results :)\n",
    "\n",
    "**Note**. X points will depend on your kaggle public leaderboard score.\n",
    "$$ f(score) = 1.0, \\ \\ 0.79 \\leq score < 0.80,$$\n",
    "$$ f(score) = 2.5, \\ \\ 0.80 \\leq score < 0.81,$$ \n",
    "$$ f(score) = 4.0, \\ \\ 0.81 \\leq score $$ \n",
    "Your code should generate the output submitted to kaggle. Fix random seeds to make the results reproducible."
   ]
  },
  {
   "cell_type": "markdown",
   "metadata": {},
   "source": [
    "So, for predicting test data, I will use Logistic Regression"
   ]
  },
  {
   "cell_type": "code",
   "execution_count": 382,
   "metadata": {},
   "outputs": [],
   "source": [
    "def data_preprocessing(X):\n",
    "    # columns to lowercase\n",
    "    X.columns = X.columns.str.lower()\n",
    "\n",
    "    X = X.drop(['cabin', 'passengerid'], axis=1)\n",
    "\n",
    "    # fill age column \n",
    "    X.loc[(X['sex'] == 'female') & (X['pclass'] == 1) & X['age'].isna(), 'age'] = 47\n",
    "    X.loc[(df['sex'] == 'female') & (X['pclass'] == 2) & X['age'].isna(), 'age'] = 39\n",
    "    X.loc[(df['sex'] == 'female') & (X['pclass'] == 3) & X['age'].isna(), 'age'] = 32\n",
    "\n",
    "    X.loc[(X['sex'] == 'male') & (X['pclass'] == 1) & X['age'].isna(), 'age'] = 42\n",
    "    X.loc[(X['sex'] == 'male') & (X['pclass'] == 2) & X['age'].isna(), 'age'] = 38\n",
    "    X.loc[(X['sex'] == 'male') & (X['pclass'] == 3) & X['age'].isna(), 'age'] = 34\n",
    "\n",
    "    # encode categorical features\n",
    "    sex = pd.get_dummies(X['sex'], drop_first=True, prefix='sex')\n",
    "    embark = pd.get_dummies(X['embarked'], drop_first=True, prefix='embarked')\n",
    "    X = pd.concat([X, sex, embark], axis=1)\n",
    "\n",
    "    # drop categorical features\n",
    "    X.drop(['sex','embarked', 'name', 'ticket'], axis=1,inplace=True)\n",
    "\n",
    "    X['family_size'] = X['sibsp'] + X['parch'] + 1\n",
    "\n",
    "    pclass = pd.get_dummies(X['pclass'], drop_first=True, prefix='pclass_')\n",
    "    X = pd.concat([X, pclass], axis=1)\n",
    "    X.drop('pclass', axis=1)\n",
    "\n",
    "    X['age'] = X['age'].fillna(X['age'].mean())\n",
    "    X['fare'] = X['fare'].fillna(X['fare'].mean())\n",
    "\n",
    "    scaler = StandardScaler()\n",
    "    X = scaler.fit_transform(X)\n",
    "\n",
    "    return X"
   ]
  },
  {
   "cell_type": "code",
   "execution_count": 383,
   "metadata": {},
   "outputs": [],
   "source": [
    "test = pd.read_csv('data\\\\titanic\\\\test.csv')\n",
    "\n",
    "x_test = data_preprocessing(test)\n",
    "y_predict = grid_result.predict(x_test)"
   ]
  },
  {
   "cell_type": "code",
   "execution_count": 384,
   "metadata": {},
   "outputs": [
    {
     "data": {
      "text/html": [
       "<div>\n",
       "<style scoped>\n",
       "    .dataframe tbody tr th:only-of-type {\n",
       "        vertical-align: middle;\n",
       "    }\n",
       "\n",
       "    .dataframe tbody tr th {\n",
       "        vertical-align: top;\n",
       "    }\n",
       "\n",
       "    .dataframe thead th {\n",
       "        text-align: right;\n",
       "    }\n",
       "</style>\n",
       "<table border=\"1\" class=\"dataframe\">\n",
       "  <thead>\n",
       "    <tr style=\"text-align: right;\">\n",
       "      <th></th>\n",
       "      <th>PassengerId</th>\n",
       "      <th>Survived</th>\n",
       "    </tr>\n",
       "  </thead>\n",
       "  <tbody>\n",
       "    <tr>\n",
       "      <th>0</th>\n",
       "      <td>100000</td>\n",
       "      <td>0</td>\n",
       "    </tr>\n",
       "    <tr>\n",
       "      <th>1</th>\n",
       "      <td>100001</td>\n",
       "      <td>1</td>\n",
       "    </tr>\n",
       "    <tr>\n",
       "      <th>2</th>\n",
       "      <td>100002</td>\n",
       "      <td>1</td>\n",
       "    </tr>\n",
       "    <tr>\n",
       "      <th>3</th>\n",
       "      <td>100003</td>\n",
       "      <td>0</td>\n",
       "    </tr>\n",
       "    <tr>\n",
       "      <th>4</th>\n",
       "      <td>100004</td>\n",
       "      <td>1</td>\n",
       "    </tr>\n",
       "  </tbody>\n",
       "</table>\n",
       "</div>"
      ],
      "text/plain": [
       "   PassengerId  Survived\n",
       "0       100000         0\n",
       "1       100001         1\n",
       "2       100002         1\n",
       "3       100003         0\n",
       "4       100004         1"
      ]
     },
     "execution_count": 384,
     "metadata": {},
     "output_type": "execute_result"
    }
   ],
   "source": [
    "submit = pd.DataFrame({'PassengerId': test['passengerid'], 'Survived': y_predict})\n",
    "submit.to_csv('submit.csv', index = False)\n",
    "submit.head()"
   ]
  },
  {
   "cell_type": "markdown",
   "metadata": {},
   "source": [
    "<img src=\"score_kaggle_2.png\"/>"
   ]
  },
  {
   "cell_type": "markdown",
   "metadata": {},
   "source": [
    "If GitHub hasn't render the picture of the Kaggle Score, it can be found by the link\n",
    "[Kaggle competition score](https://github.com/VictoriaLebedeva/classification/blob/main/score_kaggle_2.png)"
   ]
  }
 ],
 "metadata": {
  "kernelspec": {
   "display_name": "Python 3 (ipykernel)",
   "language": "python",
   "name": "python3"
  },
  "language_info": {
   "codemirror_mode": {
    "name": "ipython",
    "version": 3
   },
   "file_extension": ".py",
   "mimetype": "text/x-python",
   "name": "python",
   "nbconvert_exporter": "python",
   "pygments_lexer": "ipython3",
   "version": "3.8.8"
  }
 },
 "nbformat": 4,
 "nbformat_minor": 4
}
